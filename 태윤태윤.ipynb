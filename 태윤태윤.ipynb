{
 "cells": [
  {
   "cell_type": "code",
   "execution_count": 43,
   "outputs": [],
   "source": [
    "from sympy import symbols, Derivative"
   ],
   "metadata": {
    "collapsed": false,
    "pycharm": {
     "name": "#%%\n"
    }
   }
  },
  {
   "cell_type": "code",
   "execution_count": 44,
   "outputs": [],
   "source": [
    "def NewtonRaphson(fx, initialValue):\n",
    "    a = initialValue\n",
    "    x = symbols('x')\n",
    "\n",
    "    hx = Derivative(fx, x).doit()\n",
    "\n",
    "    for i in range(100000):\n",
    "        a = - float(fx.doit().subs({x:a})) / float(hx.doit().subs({hx:a})) + float(a)\n",
    "\n",
    "        b = float(fx.doit().subs({x:a}))\n",
    "\n",
    "        if abs(b) < 1e-10:\n",
    "            return a"
   ],
   "metadata": {
    "collapsed": false,
    "pycharm": {
     "name": "#%%\n"
    }
   }
  },
  {
   "cell_type": "code",
   "execution_count": 49,
   "outputs": [
    {
     "name": "stdout",
     "output_type": "stream",
     "text": [
      "2.1066849064267243\n"
     ]
    }
   ],
   "source": [
    "if __name__ == '__main__':\n",
    "    x = symbols(\"x\")\n",
    "    fx =  0.7*x**2 - x - 1\n",
    "    initialValue = 0.4\n",
    "    print(NewtonRaphson(fx, initialValue))"
   ],
   "metadata": {
    "collapsed": false,
    "pycharm": {
     "name": "#%%\n"
    }
   }
  },
  {
   "cell_type": "code",
   "execution_count": null,
   "outputs": [],
   "source": [],
   "metadata": {
    "collapsed": false,
    "pycharm": {
     "name": "#%%\n"
    }
   }
  }
 ],
 "metadata": {
  "kernelspec": {
   "display_name": "Python 3",
   "language": "python",
   "name": "python3"
  },
  "language_info": {
   "codemirror_mode": {
    "name": "ipython",
    "version": 2
   },
   "file_extension": ".py",
   "mimetype": "text/x-python",
   "name": "python",
   "nbconvert_exporter": "python",
   "pygments_lexer": "ipython2",
   "version": "2.7.6"
  }
 },
 "nbformat": 4,
 "nbformat_minor": 0
}