{
 "cells": [
  {
   "cell_type": "code",
   "execution_count": 2,
   "metadata": {},
   "outputs": [
    {
     "name": "stdout",
     "output_type": "stream",
     "text": [
      "주급 :  600000.0\n"
     ]
    }
   ],
   "source": [
    "# 1\n",
    "def weeklypay(rate, hour):\n",
    "    if hour > 30:\n",
    "        sum = rate * 1.5 * hour\n",
    "        print(\"주급 : \", sum)\n",
    "    else:\n",
    "        sum = rate * hour\n",
    "        print(\"주급 : \", sum)\n",
    "\n",
    "\n",
    "\n",
    "r = int(input(\"시급을 입력하세요 : \"))\n",
    "h = int(input(\"근무 시간을 입력해주세요 : \"))\n",
    "weeklypay(r, h)"
   ]
  },
  {
   "cell_type": "code",
   "execution_count": 5,
   "metadata": {},
   "outputs": [
    {
     "name": "stdout",
     "output_type": "stream",
     "text": [
      "[(3, 4, 5), (4, 3, 5), (5, 12, 13), (6, 8, 10), (7, 24, 25), (8, 6, 10), (8, 15, 17), (9, 12, 15), (9, 40, 41), (10, 24, 26), (11, 60, 61), (12, 5, 13), (12, 9, 15), (12, 16, 20), (12, 35, 37), (13, 84, 85), (14, 48, 50), (15, 8, 17), (15, 20, 25), (15, 36, 39), (16, 12, 20), (16, 30, 34), (16, 63, 65), (18, 24, 30), (18, 80, 82), (20, 15, 25), (20, 21, 29), (20, 48, 52), (21, 20, 29), (21, 28, 35), (21, 72, 75), (24, 7, 25), (24, 10, 26), (24, 18, 30), (24, 32, 40), (24, 45, 51), (24, 70, 74), (25, 60, 65), (27, 36, 45), (28, 21, 35), (28, 45, 53), (28, 96, 100), (30, 16, 34), (30, 40, 50), (30, 72, 78), (32, 24, 40), (32, 60, 68), (33, 44, 55), (33, 56, 65), (35, 12, 37), (35, 84, 91), (36, 15, 39), (36, 27, 45), (36, 48, 60), (36, 77, 85), (39, 52, 65), (39, 80, 89), (40, 9, 41), (40, 30, 50), (40, 42, 58), (40, 75, 85), (42, 40, 58), (42, 56, 70), (44, 33, 55), (45, 24, 51), (45, 28, 53), (45, 60, 75), (48, 14, 50), (48, 20, 52), (48, 36, 60), (48, 55, 73), (48, 64, 80), (51, 68, 85), (52, 39, 65), (54, 72, 90), (55, 48, 73), (56, 33, 65), (56, 42, 70), (57, 76, 95), (60, 11, 61), (60, 25, 65), (60, 32, 68), (60, 45, 75), (60, 63, 87), (60, 80, 100), (63, 16, 65), (63, 60, 87), (64, 48, 80), (65, 72, 97), (68, 51, 85), (70, 24, 74), (72, 21, 75), (72, 30, 78), (72, 54, 90), (72, 65, 97), (75, 40, 85), (76, 57, 95), (77, 36, 85), (80, 18, 82), (80, 39, 89), (80, 60, 100), (84, 13, 85), (84, 35, 91), (96, 28, 100)]\n"
     ]
    }
   ],
   "source": [
    "# 2\n",
    "pita = []\n",
    "for a in range(1,101):\n",
    "    for b in range(1, 101):\n",
    "        for c in range(1, 101):\n",
    "            if a ** 2 + b ** 2 ==c ** 2 :\n",
    "                pita.append((a, b, c))\n",
    "\n",
    "print(pita)\n"
   ]
  },
  {
   "cell_type": "code",
   "execution_count": 26,
   "metadata": {},
   "outputs": [
    {
     "name": "stdout",
     "output_type": "stream",
     "text": [
      "키의 평균값 :  170.59808015534486\n",
      "키의 중앙값 :  170.94096119437998\n",
      "몸무게의 평균값 :  70.82012970747837\n",
      "몸무게의 중앙값 :  70.24654858649703\n",
      "나이의 평균값 :  22.40767739440337\n",
      "나이의 중앙값 :  22.24641157043748\n"
     ]
    }
   ],
   "source": [
    "# 3\n",
    "from statistics import mean, median\n",
    "import numpy as np\n",
    "np.random.seed(0)\n",
    "\n",
    "height = np.random.normal(170, 10.0, 100)\n",
    "weight = np.random.normal(70, 10.0, 100)\n",
    "age = np.random.normal(23, 10, 100)\n",
    "\n",
    "data = np.array([height,\n",
    "                weight,\n",
    "                age])\n",
    "\n",
    "\n",
    "print(\"키의 평균값 : \", mean(height))\n",
    "print(\"키의 중앙값 : \", median(height))\n",
    "print(\"몸무게의 평균값 : \", mean(weight))\n",
    "print(\"몸무게의 중앙값 : \", median(weight))\n",
    "print(\"나이의 평균값 : \", mean(age))\n",
    "print(\"나이의 중앙값 : \", median(age))"
   ]
  },
  {
   "cell_type": "code",
   "execution_count": 3,
   "metadata": {},
   "outputs": [
    {
     "name": "stdout",
     "output_type": "stream",
     "text": [
      "딕셔너리 프로그램입니다\n",
      "$ 딕셔너리에 Hi 와 하이 가 입력되어 {'Hi': '하이'} 가 되었습니다\n",
      "$ 검색된 한글 뜻은 :  하이\n",
      "$ 검색된 한글 뜻은 :  하이\n",
      "종료되었습니다. 감사합니다.\n"
     ]
    }
   ],
   "source": [
    "# 4\n",
    "my_dict = {}\n",
    "def dic_add(key, value):\n",
    "    my_dict[key] = value\n",
    "    print(\"$ 딕셔너리에\", key, \"와\", value, '가 입력되어', my_dict,'가 되었습니다')\n",
    "\n",
    "def dic_find(search):\n",
    "    for key, value in my_dict.items():\n",
    "        if key == search:\n",
    "            print(\"$ 검색된 한글 뜻은 : \", value) \n",
    "        else:\n",
    "            print(\"$ 검색된 단어가 없습니다\")\n",
    "\n",
    "print(\"$ 딕셔너리 프로그램입니다\")\n",
    "while True :\n",
    "    answer = input(\"$ 프로그램을 실행합니다. \\n 1) 입력 명령 : '<', 2) 검색 명령 : '>', 3) 종료 : 'q'\")\n",
    "    if answer == \"<\":\n",
    "        k = input(\"영어 단어를 입력하세요 : \")\n",
    "        v = input(\"한글 단어를 입력하세요 : \")\n",
    "        dic_add(k, v)\n",
    "    elif answer == \">\":\n",
    "        k = input(\"$ 영어단어를 입력하시면 한국어 단어를 찾아드립니다.\")\n",
    "        dic_find(k)\n",
    "    elif answer == \"q\":\n",
    "        print(\"$ 종료되었습니다. 감사합니다.\")    \n",
    "        break\n"
   ]
  }
 ],
 "metadata": {
  "kernelspec": {
   "display_name": "Python 3.9.6 64-bit",
   "language": "python",
   "name": "python3"
  },
  "language_info": {
   "codemirror_mode": {
    "name": "ipython",
    "version": 3
   },
   "file_extension": ".py",
   "mimetype": "text/x-python",
   "name": "python",
   "nbconvert_exporter": "python",
   "pygments_lexer": "ipython3",
   "version": "3.9.6"
  },
  "orig_nbformat": 4,
  "vscode": {
   "interpreter": {
    "hash": "31f2aee4e71d21fbe5cf8b01ff0e069b9275f58929596ceb00d14d90e3e16cd6"
   }
  }
 },
 "nbformat": 4,
 "nbformat_minor": 2
}
