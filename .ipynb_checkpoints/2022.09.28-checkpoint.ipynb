{
 "cells": [
  {
   "cell_type": "code",
   "execution_count": 1,
   "metadata": {
    "pycharm": {
     "name": "#%%\n"
    }
   },
   "outputs": [
    {
     "name": "stdout",
     "output_type": "stream",
     "text": [
      "실습 1 : array_a =  [0 1 2 3 4 5 6 7 8 9]\n"
     ]
    }
   ],
   "source": [
    "import numpy as np\n",
    "\n",
    "array_a = np.array([0, 1, 2, 3, 4, 5, 6, 7, 8, 9])\n",
    "print('실습 1 : array_a = ', array_a)"
   ]
  },
  {
   "cell_type": "code",
   "execution_count": 2,
   "metadata": {
    "pycharm": {
     "name": "#%%\n"
    }
   },
   "outputs": [
    {
     "name": "stdout",
     "output_type": "stream",
     "text": [
      "실습 2 : array_b =  [0 1 2 3 4 5 6 7 8 9]\n"
     ]
    }
   ],
   "source": [
    "array_b = np.array(range(10))\n",
    "print('실습 2 : array_b = ', array_b)"
   ]
  },
  {
   "cell_type": "code",
   "execution_count": 3,
   "metadata": {
    "pycharm": {
     "name": "#%%\n"
    }
   },
   "outputs": [
    {
     "name": "stdout",
     "output_type": "stream",
     "text": [
      "실습 3 : array_c =  [0 2 4 6 8]\n"
     ]
    }
   ],
   "source": [
    "array_c = np.array(range(0, 10, 2))\n",
    "print('실습 3 : array_c = ', array_c)"
   ]
  },
  {
   "cell_type": "code",
   "execution_count": 4,
   "metadata": {
    "pycharm": {
     "name": "#%%\n"
    }
   },
   "outputs": [
    {
     "name": "stdout",
     "output_type": "stream",
     "text": [
      "실습 4 : \n",
      "array_c의 shape :  (5,)\n",
      "array_c의 ndim :  1\n",
      "array_c의 dtype :  int64\n",
      "array_c의 size :  5\n"
     ]
    }
   ],
   "source": [
    "print('실습 4 : ')\n",
    "print('array_c의 shape : ', array_c.shape)\n",
    "print('array_c의 ndim : ', array_c.ndim)\n",
    "print('array_c의 dtype : ', array_c.dtype)\n",
    "print('array_c의 size : ', array_c.size)"
   ]
  },
  {
   "cell_type": "code",
   "execution_count": 5,
   "metadata": {
    "pycharm": {
     "name": "#%%\n"
    }
   },
   "outputs": [
    {
     "name": "stdout",
     "output_type": "stream",
     "text": [
      "1차원 배열 sort()정렬 전 :  [ 1.62434536 -0.61175641 -0.52817175 -1.07296862  0.86540763]\n"
     ]
    }
   ],
   "source": [
    "# 난수를 생성기의 시드값에 따라 정해진 난수를 생성한다\n",
    "np.random.seed(1)\n",
    "\n",
    "# 표편 = 1, 평균값 0인 정규분포에서 랜덤으로 숫자를 결정한다\n",
    "# 1차원\n",
    "\n",
    "vector = np.random.randn(5)\n",
    "\n",
    "print('1차원 배열 sort()정렬 전 : ', vector)"
   ]
  },
  {
   "cell_type": "code",
   "execution_count": 6,
   "metadata": {
    "pycharm": {
     "name": "#%%\n"
    }
   },
   "outputs": [],
   "source": [
    "data = [[1, 2, 3, 4],\n",
    "        [5, 6, 7, 8],\n",
    "        [9 ,10, 11, 12],\n",
    "        [13, 14, 15, 16],\n",
    "        [17, 18, 19, 20]]\n",
    "\n",
    "matrix = np.array(data)"
   ]
  },
  {
   "cell_type": "code",
   "execution_count": 8,
   "metadata": {
    "pycharm": {
     "name": "#%%\n"
    }
   },
   "outputs": [
    {
     "name": "stdout",
     "output_type": "stream",
     "text": [
      "matrix: \n",
      " [[ 1  2  3  4]\n",
      " [ 5  6  7  8]\n",
      " [ 9 10 11 12]\n",
      " [13 14 15 16]\n",
      " [17 18 19 20]]\n",
      "matrix.T: \n",
      " [[ 1  5  9 13 17]\n",
      " [ 2  6 10 14 18]\n",
      " [ 3  7 11 15 19]\n",
      " [ 4  8 12 16 20]]\n",
      "matrix.transpose(): \n",
      " [[ 1  5  9 13 17]\n",
      " [ 2  6 10 14 18]\n",
      " [ 3  7 11 15 19]\n",
      " [ 4  8 12 16 20]]\n",
      "np.transpose(matrix): \n",
      " [[ 1  5  9 13 17]\n",
      " [ 2  6 10 14 18]\n",
      " [ 3  7 11 15 19]\n",
      " [ 4  8 12 16 20]]\n",
      "matrix.swapaxes(0, 1): \n",
      " [[ 1  5  9 13 17]\n",
      " [ 2  6 10 14 18]\n",
      " [ 3  7 11 15 19]\n",
      " [ 4  8 12 16 20]]\n",
      "np.swapaxes(matrix,0, 1): \n",
      " [[ 1  5  9 13 17]\n",
      " [ 2  6 10 14 18]\n",
      " [ 3  7 11 15 19]\n",
      " [ 4  8 12 16 20]]\n",
      "matrix 데이터는 복사되지 않았습니다: \n",
      " [[ 1  2  3  4]\n",
      " [ 5  6  7  8]\n",
      " [ 9 10 11 12]\n",
      " [13 14 15 16]\n",
      " [17 18 19 20]]\n"
     ]
    }
   ],
   "source": [
    "print(\"matrix: \\n\", matrix)\n",
    "print(\"matrix.T: \\n\", matrix.T)\n",
    "print(\"matrix.transpose(): \\n\", matrix.transpose())\n",
    "print(\"np.transpose(matrix): \\n\", np.transpose(matrix))\n",
    "print(\"matrix.swapaxes(0, 1): \\n\", matrix.swapaxes(0, 1))\n",
    "print(\"np.swapaxes(matrix,0, 1): \\n\", np.swapaxes(matrix, 0, 1))\n",
    "print('matrix 데이터는 복사되지 않았습니다: \\n', matrix)"
   ]
  },
  {
   "cell_type": "code",
   "execution_count": null,
   "metadata": {
    "pycharm": {
     "name": "#%%\n"
    }
   },
   "outputs": [],
   "source": []
  }
 ],
 "metadata": {
  "kernelspec": {
   "display_name": "Python 3 (ipykernel)",
   "language": "python",
   "name": "python3"
  },
  "language_info": {
   "codemirror_mode": {
    "name": "ipython",
    "version": 3
   },
   "file_extension": ".py",
   "mimetype": "text/x-python",
   "name": "python",
   "nbconvert_exporter": "python",
   "pygments_lexer": "ipython3",
   "version": "3.9.12"
  }
 },
 "nbformat": 4,
 "nbformat_minor": 1
}
