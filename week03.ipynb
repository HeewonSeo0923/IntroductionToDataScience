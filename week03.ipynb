{
 "cells": [
  {
   "cell_type": "code",
   "execution_count": 1,
   "id": "6d160b3f",
   "metadata": {
    "pycharm": {
     "name": "#%%\n"
    }
   },
   "outputs": [
    {
     "name": "stdout",
     "output_type": "stream",
     "text": [
      "Hello Data Science\n"
     ]
    }
   ],
   "source": [
    "print(\"Hello Data Science\")"
   ]
  },
  {
   "cell_type": "code",
   "execution_count": 2,
   "id": "551a445e",
   "metadata": {
    "pycharm": {
     "name": "#%%\n"
    }
   },
   "outputs": [
    {
     "name": "stdout",
     "output_type": "stream",
     "text": [
      "127\n"
     ]
    }
   ],
   "source": [
    "print(127)"
   ]
  },
  {
   "cell_type": "code",
   "execution_count": 3,
   "id": "e6eb2b49",
   "metadata": {
    "pycharm": {
     "name": "#%%\n"
    }
   },
   "outputs": [
    {
     "name": "stdout",
     "output_type": "stream",
     "text": [
      "7777\n"
     ]
    }
   ],
   "source": [
    "print(7777)"
   ]
  },
  {
   "cell_type": "code",
   "execution_count": 4,
   "id": "f091e54a",
   "metadata": {
    "pycharm": {
     "name": "#%%\n"
    }
   },
   "outputs": [],
   "source": [
    "import keyword"
   ]
  },
  {
   "cell_type": "code",
   "execution_count": 5,
   "id": "492859a9",
   "metadata": {
    "pycharm": {
     "name": "#%%\n"
    }
   },
   "outputs": [
    {
     "name": "stdout",
     "output_type": "stream",
     "text": [
      "['False', 'None', 'True', 'and', 'as', 'assert', 'async', 'await', 'break', 'class', 'continue', 'def', 'del', 'elif', 'else', 'except', 'finally', 'for', 'from', 'global', 'if', 'import', 'in', 'is', 'lambda', 'nonlocal', 'not', 'or', 'pass', 'raise', 'return', 'try', 'while', 'with', 'yield']\n"
     ]
    }
   ],
   "source": [
    "print(keyword.kwlist)"
   ]
  },
  {
   "cell_type": "code",
   "execution_count": 1,
   "id": "58720578",
   "metadata": {
    "pycharm": {
     "name": "#%%\n"
    }
   },
   "outputs": [],
   "source": [
    "# import numpy\n",
    "import numpy as np\n",
    "\n",
    "# 1차원 형태 Vector\n",
    "data_1 = [1, 2, 3, 4, 5]\n",
    "\n",
    "# 2차원 형태 Matric\n",
    "data_2 = [[1, 2, 3],\n",
    "         [4, 5, 6]]\n",
    "\n",
    "data_3 = [[1, 2, 3.0],\n",
    "         [4, 5.0, 6]]"
   ]
  },
  {
   "cell_type": "code",
   "execution_count": 4,
   "id": "52a491b6",
   "metadata": {
    "pycharm": {
     "name": "#%%\n"
    }
   },
   "outputs": [],
   "source": [
    "vector_1 = np.array(data_1)\n",
    "matrix_1 = np.array(data_2)\n",
    "matrix_2 = np.array(data_3)\n",
    "\n",
    "matrix_3 = np.array([[1, 2, 3],\n",
    "                   [4, 5, 6],\n",
    "                   [7, 8, 9]])"
   ]
  },
  {
   "cell_type": "code",
   "execution_count": 5,
   "id": "3615c5c3",
   "metadata": {
    "pycharm": {
     "name": "#%%\n"
    }
   },
   "outputs": [
    {
     "name": "stdout",
     "output_type": "stream",
     "text": [
      "vector_1 :  [1 2 3 4 5]\n",
      "matrix_1 :  [[1 2 3]\n",
      " [4 5 6]]\n",
      "matrix_2 :  [[1. 2. 3.]\n",
      " [4. 5. 6.]]\n",
      "matrix_3 :  [[1 2 3]\n",
      " [4 5 6]\n",
      " [7 8 9]]\n"
     ]
    }
   ],
   "source": [
    "print(\"vector_1 : \", vector_1)\n",
    "print(\"matrix_1 : \", matrix_1)\n",
    "print(\"matrix_2 : \", matrix_2)\n",
    "print(\"matrix_3 : \", matrix_3)"
   ]
  },
  {
   "cell_type": "code",
   "execution_count": 6,
   "id": "473de2d7",
   "metadata": {
    "pycharm": {
     "name": "#%%\n"
    }
   },
   "outputs": [],
   "source": [
    "import numpy as np\n",
    "mid_scores = [10, 20, 30]\n",
    "final_scores = [70, 80, 90]"
   ]
  },
  {
   "cell_type": "code",
   "execution_count": 7,
   "id": "67cc72a3",
   "metadata": {
    "pycharm": {
     "name": "#%%\n"
    }
   },
   "outputs": [],
   "source": [
    "total = mid_scores + final_scores"
   ]
  },
  {
   "cell_type": "code",
   "execution_count": 8,
   "id": "4fad8fa4",
   "metadata": {
    "pycharm": {
     "name": "#%%\n"
    }
   },
   "outputs": [
    {
     "data": {
      "text/plain": [
       "[10, 20, 30, 70, 80, 90]"
      ]
     },
     "execution_count": 8,
     "metadata": {},
     "output_type": "execute_result"
    }
   ],
   "source": [
    "total # 리스트가 합쳐져버린다"
   ]
  },
  {
   "cell_type": "code",
   "execution_count": 9,
   "id": "0e8bfb87",
   "metadata": {
    "pycharm": {
     "name": "#%%\n"
    }
   },
   "outputs": [],
   "source": [
    "mid_scores = np.array([10, 20, 30])\n",
    "final_scores = np.array([70, 80, 90])"
   ]
  },
  {
   "cell_type": "code",
   "execution_count": 10,
   "id": "d185a0f4",
   "metadata": {
    "pycharm": {
     "name": "#%%\n"
    }
   },
   "outputs": [],
   "source": [
    "total = mid_scores + final_scores"
   ]
  },
  {
   "cell_type": "code",
   "execution_count": 11,
   "id": "7358e269",
   "metadata": {
    "pycharm": {
     "name": "#%%\n"
    }
   },
   "outputs": [
    {
     "name": "stdout",
     "output_type": "stream",
     "text": [
      "시험 성적의 합계 :  [ 80 100 120]\n",
      "시험 성적의 평균 :  [40. 50. 60.]\n"
     ]
    }
   ],
   "source": [
    "print(\"시험 성적의 합계 : \", total)\n",
    "print(\"시험 성적의 평균 : \", total/2)"
   ]
  },
  {
   "cell_type": "code",
   "execution_count": 3,
   "id": "53112bf1",
   "metadata": {
    "pycharm": {
     "name": "#%%\n"
    }
   },
   "outputs": [
    {
     "name": "stdout",
     "output_type": "stream",
     "text": [
      "실습 1 : array_a =  [0 1 2 3 4 5 6 7 8 9]\n"
     ]
    }
   ],
   "source": [
    "import numpy as np\n",
    "\n",
    "array_a = np.array([0, 1, 2, 3, 4, 5, 6, 7, 8, 9])\n",
    "print('실습 1 : array_a = ', array_a)"
   ]
  },
  {
   "cell_type": "code",
   "execution_count": 4,
   "outputs": [
    {
     "name": "stdout",
     "output_type": "stream",
     "text": [
      "실습 2 : array_b =  [0 1 2 3 4 5 6 7 8 9]\n"
     ]
    }
   ],
   "source": [
    "array_b = np.array(range(10))\n",
    "print('실습 2 : array_b = ', array_b)"
   ],
   "metadata": {
    "collapsed": false,
    "pycharm": {
     "name": "#%%\n"
    }
   }
  },
  {
   "cell_type": "code",
   "execution_count": 5,
   "outputs": [
    {
     "name": "stdout",
     "output_type": "stream",
     "text": [
      "실습 3 : array_c =  [0 2 4 6 8]\n"
     ]
    }
   ],
   "source": [
    "array_c = np.array(range(0, 10, 2))\n",
    "print('실습 3 : array_c = ', array_c)"
   ],
   "metadata": {
    "collapsed": false,
    "pycharm": {
     "name": "#%%\n"
    }
   }
  },
  {
   "cell_type": "code",
   "execution_count": 6,
   "outputs": [
    {
     "name": "stdout",
     "output_type": "stream",
     "text": [
      "실습 4 : \n",
      "array_c의 shape :  (5,)\n",
      "array_c의 ndim :  1\n",
      "array_c의 dtype :  int64\n",
      "array_c의 size :  5\n"
     ]
    }
   ],
   "source": [
    "print('실습 4 : ')\n",
    "print('array_c의 shape : ', array_c.shape)\n",
    "print('array_c의 ndim : ', array_c.ndim)\n",
    "print('array_c의 dtype : ', array_c.dtype)\n",
    "print('array_c의 size : ', array_c.size)"
   ],
   "metadata": {
    "collapsed": false,
    "pycharm": {
     "name": "#%%\n"
    }
   }
  },
  {
   "cell_type": "code",
   "execution_count": null,
   "outputs": [],
   "source": [],
   "metadata": {
    "collapsed": false,
    "pycharm": {
     "name": "#%%\n"
    }
   }
  }
 ],
 "metadata": {
  "kernelspec": {
   "display_name": "Python 3 (ipykernel)",
   "language": "python",
   "name": "python3"
  },
  "language_info": {
   "codemirror_mode": {
    "name": "ipython",
    "version": 3
   },
   "file_extension": ".py",
   "mimetype": "text/x-python",
   "name": "python",
   "nbconvert_exporter": "python",
   "pygments_lexer": "ipython3",
   "version": "3.9.12"
  }
 },
 "nbformat": 4,
 "nbformat_minor": 5
}