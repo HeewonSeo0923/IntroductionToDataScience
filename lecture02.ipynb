{
 "cells": [
  {
   "cell_type": "markdown",
   "id": "21730887",
   "metadata": {},
   "source": [
    "# 2. 파이썬의 기초"
   ]
  },
  {
   "cell_type": "markdown",
   "id": "b252ba93",
   "metadata": {},
   "source": [
    "## 2.1 자료형"
   ]
  },
  {
   "cell_type": "markdown",
   "id": "2f50dd33",
   "metadata": {},
   "source": [
    "- 수치형(numerical) : 숫자 형태로 이루어진 수를 나타내는 자료형을 말한다. 일상에서 늘 사용하기 때문에 익숙하다. 자주 쓰이는 수치형 자료는 정수와 부동소수점이 있다.\n",
    "\n",
    "- 부동소수점 : 소숫점이 움직이는 숫자. 3.14와 같이 소수점이 찍혀 있는 숫자이다. 부동이라는 것은 floating으로 떠서 움직일 수 있음. 고정되어 있지 않다는 것이다\n",
    "\n",
    "- 문자열 : 문자의 나열을 뜻하는데 문자들의 집합이다. string이라고 불린다"
   ]
  },
  {
   "cell_type": "code",
   "execution_count": 1,
   "id": "280497e9",
   "metadata": {},
   "outputs": [
    {
     "name": "stdout",
     "output_type": "stream",
     "text": [
      "123\n",
      "7777\n"
     ]
    }
   ],
   "source": [
    "## 정수형 자료형 출력\n",
    "\n",
    "print(123)\n",
    "print(7777)"
   ]
  },
  {
   "cell_type": "code",
   "execution_count": 2,
   "id": "6db08c18",
   "metadata": {},
   "outputs": [
    {
     "name": "stdout",
     "output_type": "stream",
     "text": [
      "3.14\n",
      "-1.2\n"
     ]
    }
   ],
   "source": [
    "## 부동소수점 자료형 출력\n",
    "\n",
    "print(3.14)\n",
    "print(-1.2)"
   ]
  },
  {
   "cell_type": "code",
   "execution_count": 3,
   "id": "a4bc64a6",
   "metadata": {},
   "outputs": [
    {
     "name": "stdout",
     "output_type": "stream",
     "text": [
      "777\n",
      "3.14\n"
     ]
    }
   ],
   "source": [
    "## 정수형, 부동소수점 자료형 출력\n",
    "\n",
    "print(777)\n",
    "print(3.14)"
   ]
  },
  {
   "cell_type": "code",
   "execution_count": 4,
   "id": "5fde3ac7",
   "metadata": {},
   "outputs": [
    {
     "name": "stdout",
     "output_type": "stream",
     "text": [
      "<class 'int'>\n",
      "<class 'float'>\n"
     ]
    }
   ],
   "source": [
    "## type() 함수 출력\n",
    "\n",
    "print(type(777))\n",
    "print(type(3.14))"
   ]
  },
  {
   "cell_type": "code",
   "execution_count": 5,
   "id": "1b051b13",
   "metadata": {},
   "outputs": [
    {
     "name": "stdout",
     "output_type": "stream",
     "text": [
      "Why Learn Python\n",
      "파이썬을 배워야 하는 이유\n"
     ]
    }
   ],
   "source": [
    "## 문자열 출력(큰따옴표)\n",
    "\n",
    "print(\"Why Learn Python\")\n",
    "print(\"파이썬을 배워야 하는 이유\")"
   ]
  },
  {
   "cell_type": "code",
   "execution_count": 6,
   "id": "2f8328cb",
   "metadata": {},
   "outputs": [
    {
     "name": "stdout",
     "output_type": "stream",
     "text": [
      "a\n",
      "Python is Great for Biginners\n"
     ]
    }
   ],
   "source": [
    "## 문자열 출력(작은따옴표)\n",
    "print('a')\n",
    "print('Python is Great for Biginners')"
   ]
  },
  {
   "cell_type": "code",
   "execution_count": 7,
   "id": "410f372c",
   "metadata": {},
   "outputs": [
    {
     "name": "stdout",
     "output_type": "stream",
     "text": [
      "아기 상어 뚜 루루 뚜루\n",
      "귀여운 뚜 루루 뚜루\n",
      "바닷속 뚜 루루 뚜루\n",
      "아기 상어 !\n",
      "엄마 상어 뚜 루루 뚜루\n",
      "어여쁜 뚜 루루 뚜루\n",
      "바닷속 뚜 루루 뚜루\n",
      "엄마 상어\n"
     ]
    }
   ],
   "source": [
    "## 문자열 출력(큰따옴표)\n",
    "\n",
    "print(\"\"\"아기 상어 뚜 루루 뚜루\n",
    "귀여운 뚜 루루 뚜루\n",
    "바닷속 뚜 루루 뚜루\n",
    "아기 상어 !\n",
    "엄마 상어 뚜 루루 뚜루\n",
    "어여쁜 뚜 루루 뚜루\n",
    "바닷속 뚜 루루 뚜루\n",
    "엄마 상어\"\"\")"
   ]
  },
  {
   "cell_type": "code",
   "execution_count": 8,
   "id": "38c50439",
   "metadata": {},
   "outputs": [
    {
     "name": "stdout",
     "output_type": "stream",
     "text": [
      "아빠 상어 뚜 루루 뚜루\n",
      "힘이 쎈 뚜 루루 뚜루\n",
      "바닷속 뚜 루루 뚜루\n",
      "아빠 상어 !\n",
      "할머니 상어 뚜 루루 뚜루\n",
      "자상한 뚜 루루 뚜루\n",
      "바닷속 뚜 루루 뚜루\n",
      "할머니 상어 !\n"
     ]
    }
   ],
   "source": [
    "## 문자열 출력(작은 따옴표)\n",
    "\n",
    "print('''아빠 상어 뚜 루루 뚜루\n",
    "힘이 쎈 뚜 루루 뚜루\n",
    "바닷속 뚜 루루 뚜루\n",
    "아빠 상어 !\n",
    "할머니 상어 뚜 루루 뚜루\n",
    "자상한 뚜 루루 뚜루\n",
    "바닷속 뚜 루루 뚜루\n",
    "할머니 상어 !''')"
   ]
  },
  {
   "cell_type": "markdown",
   "id": "819a29aa",
   "metadata": {},
   "source": [
    "## 2.2 변수"
   ]
  },
  {
   "cell_type": "markdown",
   "id": "f496a9e0",
   "metadata": {},
   "source": [
    "- 변수 : 값(Value)를 저장하는 공간. 숫자 문자 등 모든 자료형 저장 가능. 변수에는 기본적으로 하나의 값만 넣을 수 있다."
   ]
  },
  {
   "cell_type": "code",
   "execution_count": 9,
   "id": "88ea0f9a",
   "metadata": {},
   "outputs": [
    {
     "name": "stdout",
     "output_type": "stream",
     "text": [
      "1\n",
      "1번만 봐도 변수와 값, 정말 쉽죠 ?\n",
      "Tea\n"
     ]
    }
   ],
   "source": [
    "## 변수 출력\n",
    "\n",
    "a = 1\n",
    "b = '1번만 봐도 변수와 값, 정말 쉽죠 ?'\n",
    "c = \"Tea\"\n",
    "print(a)\n",
    "print(b)\n",
    "print(c)"
   ]
  },
  {
   "cell_type": "code",
   "execution_count": 10,
   "id": "8585fe4e",
   "metadata": {},
   "outputs": [
    {
     "name": "stdout",
     "output_type": "stream",
     "text": [
      "7\n"
     ]
    }
   ],
   "source": [
    "## 숫자 변수형 - count, cnt, counter\n",
    "\n",
    "cnt = 7\n",
    "print(cnt)"
   ]
  },
  {
   "cell_type": "code",
   "execution_count": 11,
   "id": "5d6a5432",
   "metadata": {},
   "outputs": [
    {
     "name": "stdout",
     "output_type": "stream",
     "text": [
      "자주 사용되는 문자열 변수명 str, string\n"
     ]
    }
   ],
   "source": [
    "## 문자열 변수명 - string, str\n",
    "\n",
    "str = \"자주 사용되는 문자열 변수명 str, string\"\n",
    "print(str)"
   ]
  },
  {
   "cell_type": "markdown",
   "id": "fd84fb2e",
   "metadata": {},
   "source": [
    "## 2.3 예약어"
   ]
  },
  {
   "cell_type": "markdown",
   "id": "0808b735",
   "metadata": {},
   "source": [
    "- 예약어 : 변수 지정 불가능함. 예약어 유의 사용"
   ]
  },
  {
   "cell_type": "code",
   "execution_count": 12,
   "id": "8c5a7426",
   "metadata": {},
   "outputs": [
    {
     "name": "stdout",
     "output_type": "stream",
     "text": [
      "['False', 'None', 'True', '__peg_parser__', 'and', 'as', 'assert', 'async', 'await', 'break', 'class', 'continue', 'def', 'del', 'elif', 'else', 'except', 'finally', 'for', 'from', 'global', 'if', 'import', 'in', 'is', 'lambda', 'nonlocal', 'not', 'or', 'pass', 'raise', 'return', 'try', 'while', 'with', 'yield']\n"
     ]
    }
   ],
   "source": [
    "## 예약어 출력\n",
    "import keyword         # keyword라는 모듈 불러오기\n",
    "print(keyword.kwlist)  # 출력"
   ]
  },
  {
   "cell_type": "markdown",
   "id": "59c5f5e6",
   "metadata": {},
   "source": [
    "## 2.4 식별자"
   ]
  },
  {
   "cell_type": "markdown",
   "id": "f3f38994",
   "metadata": {},
   "source": [
    "- 식별자 : 무언가를 식별하기 위해 변수 또는 함수에 주어진 이름을 말한다\n",
    "\n",
    "### <변수 또는 함수의 이름을 지정하기 전에 식별자로 지정할 수 있는 규칙>\n",
    "- 첫 문자는 알파벳 문자이거나 언더바(_)여야 한다\n",
    "- 숫자로 시작할 수 없다\n",
    "- 특수문자는 언더바(_)만 가능하다.\n",
    "- 대/소문자를 구분한다. 예를 들어 Hello != hello\n",
    "- 예약어 사용 불가\n",
    "- 공백을 포함할 수 없다"
   ]
  },
  {
   "cell_type": "markdown",
   "id": "3da6ecf5",
   "metadata": {},
   "source": [
    "## 2.5 리터럴 상수"
   ]
  },
  {
   "cell_type": "markdown",
   "id": "ac35da6e",
   "metadata": {},
   "source": [
    "리터럴 상수 : 1.77 같은 숫자 또는 \"Hello Python World\"와 같은 문자열을 말한다. 상수는 한번 지정되면 변하지 않는 값이다. 변수와 반대 개념"
   ]
  },
  {
   "cell_type": "markdown",
   "id": "74f7a647",
   "metadata": {},
   "source": [
    "## 2.6 주석"
   ]
  },
  {
   "cell_type": "markdown",
   "id": "d5bf4d67",
   "metadata": {},
   "source": [
    "- 주석 : 프로그램에 영향을 주지 않는 # 뒤에 따라오는 짧은 문장이다"
   ]
  },
  {
   "cell_type": "code",
   "execution_count": 13,
   "id": "68f7924c",
   "metadata": {},
   "outputs": [
    {
     "name": "stdout",
     "output_type": "stream",
     "text": [
      "Hello World\n"
     ]
    }
   ],
   "source": [
    "## 간단한 문자열 출력합니다\n",
    "print(\"Hello World\")   # 문자열 출력"
   ]
  },
  {
   "cell_type": "markdown",
   "id": "7a96f4b7",
   "metadata": {},
   "source": [
    "## 2.7 표현식과 문장"
   ]
  },
  {
   "cell_type": "markdown",
   "id": "23ee6bbd",
   "metadata": {},
   "source": [
    "## 2.8 연산자와 피연산자"
   ]
  },
  {
   "cell_type": "code",
   "execution_count": 14,
   "id": "7dddb551",
   "metadata": {},
   "outputs": [
    {
     "name": "stdout",
     "output_type": "stream",
     "text": [
      "2\n",
      "1\n",
      "6\n",
      "2.0\n",
      "2\n",
      "True\n",
      "False\n"
     ]
    }
   ],
   "source": [
    "## 연산자, 피연산자, 수식 출력\n",
    "\n",
    "print(1 + 1)\n",
    "print(2 - 1)\n",
    "print(3 * 2)\n",
    "print(4 / 2)\n",
    "print(12 % 5)\n",
    "\n",
    "print(2 > 1)\n",
    "print(3 < 1)"
   ]
  },
  {
   "cell_type": "code",
   "execution_count": 15,
   "id": "fde01ce2",
   "metadata": {},
   "outputs": [
    {
     "name": "stdout",
     "output_type": "stream",
     "text": [
      "True\n",
      "False\n",
      "True\n",
      "True\n",
      "27\n",
      "8\n"
     ]
    }
   ],
   "source": [
    "print(1 <= 4)\n",
    "print(1 >= 5)\n",
    "print(7 == 7)\n",
    "print(3 != 5)\n",
    "\n",
    "print(3 ** 3)\n",
    "print(1 + (2 + 5))"
   ]
  },
  {
   "cell_type": "markdown",
   "id": "766d5795",
   "metadata": {},
   "source": [
    "## 2.9 문자열"
   ]
  },
  {
   "cell_type": "code",
   "execution_count": 16,
   "id": "30ac7484",
   "metadata": {},
   "outputs": [
    {
     "name": "stdout",
     "output_type": "stream",
     "text": [
      "579\n",
      "123456\n"
     ]
    }
   ],
   "source": [
    "## 문자열 연산자 출력\n",
    "# 숫자\n",
    "number1 = 123\n",
    "number2 = 456\n",
    "print(number1 + number2)\n",
    "\n",
    "# 문자열\n",
    "number1 = '123'\n",
    "number2 = '456'\n",
    "print(number1 + number2)"
   ]
  },
  {
   "cell_type": "code",
   "execution_count": null,
   "id": "ce5a78a0",
   "metadata": {},
   "outputs": [],
   "source": []
  }
 ],
 "metadata": {
  "kernelspec": {
   "display_name": "Python 3 (ipykernel)",
   "language": "python",
   "name": "python3"
  },
  "language_info": {
   "codemirror_mode": {
    "name": "ipython",
    "version": 3
   },
   "file_extension": ".py",
   "mimetype": "text/x-python",
   "name": "python",
   "nbconvert_exporter": "python",
   "pygments_lexer": "ipython3",
   "version": "3.9.12"
  }
 },
 "nbformat": 4,
 "nbformat_minor": 5
}
