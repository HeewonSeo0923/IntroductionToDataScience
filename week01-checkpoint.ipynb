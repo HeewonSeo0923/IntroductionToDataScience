{
 "cells": [
  {
   "cell_type": "code",
   "execution_count": 1,
   "id": "62ebd329",
   "metadata": {},
   "outputs": [],
   "source": [
    "import numpy as np          # 선형대수를 처리하는 넘파이 모듈 (별칭으로 np 사용)"
   ]
  },
  {
   "cell_type": "code",
   "execution_count": 2,
   "id": "019828cd",
   "metadata": {},
   "outputs": [
    {
     "data": {
      "text/plain": [
       "'1.21.5'"
      ]
     },
     "execution_count": 2,
     "metadata": {},
     "output_type": "execute_result"
    }
   ],
   "source": [
    "np.__version__              # 모듈 버전 확인"
   ]
  },
  {
   "cell_type": "code",
   "execution_count": 5,
   "id": "89cb5a50",
   "metadata": {},
   "outputs": [],
   "source": [
    "import pandas as pd        # 판다스 모듈 사용해 데이터프레임 처리"
   ]
  },
  {
   "cell_type": "code",
   "execution_count": 7,
   "id": "ed263201",
   "metadata": {},
   "outputs": [
    {
     "data": {
      "text/plain": [
       "'1.4.2'"
      ]
     },
     "execution_count": 7,
     "metadata": {},
     "output_type": "execute_result"
    }
   ],
   "source": [
    "pd.__version__             # 모듈 버전 확인"
   ]
  },
  {
   "cell_type": "code",
   "execution_count": 8,
   "id": "c0cf2f02",
   "metadata": {},
   "outputs": [],
   "source": [
    "import matplotlib as mpl   # 기본 시각화 모듈 사용 (별칭 mpl)"
   ]
  },
  {
   "cell_type": "code",
   "execution_count": 9,
   "id": "c14104c9",
   "metadata": {},
   "outputs": [
    {
     "data": {
      "text/plain": [
       "'3.5.1'"
      ]
     },
     "execution_count": 9,
     "metadata": {},
     "output_type": "execute_result"
    }
   ],
   "source": [
    "mpl.__version__            # 모듈 버전 확인"
   ]
  },
  {
   "cell_type": "code",
   "execution_count": 10,
   "id": "e3f77a83",
   "metadata": {},
   "outputs": [],
   "source": [
    "import seaborn as sns      # 데이터 프레임을 바로 시각화할 수 있는 모듈"
   ]
  },
  {
   "cell_type": "code",
   "execution_count": 11,
   "id": "7b1b4306",
   "metadata": {},
   "outputs": [
    {
     "data": {
      "text/plain": [
       "'0.11.2'"
      ]
     },
     "execution_count": 11,
     "metadata": {},
     "output_type": "execute_result"
    }
   ],
   "source": [
    "sns.__version__            # 모듈 버전 확인"
   ]
  },
  {
   "cell_type": "code",
   "execution_count": 21,
   "id": "69c75a90",
   "metadata": {},
   "outputs": [
    {
     "name": "stdout",
     "output_type": "stream",
     "text": [
      "Collecting pyecharts\n",
      "  Downloading pyecharts-1.9.1-py3-none-any.whl (135 kB)\n",
      "\u001b[K     |████████████████████████████████| 135 kB 9.0 MB/s eta 0:00:01\n",
      "\u001b[?25hCollecting simplejson\n",
      "  Downloading simplejson-3.17.6-cp39-cp39-macosx_10_9_x86_64.whl (74 kB)\n",
      "\u001b[K     |████████████████████████████████| 74 kB 3.8 MB/s eta 0:00:011\n",
      "\u001b[?25hRequirement already satisfied: jinja2 in /Users/seohuiwon/opt/anaconda3/lib/python3.9/site-packages (from pyecharts) (2.11.3)\n",
      "Collecting prettytable\n",
      "  Downloading prettytable-3.4.1-py3-none-any.whl (26 kB)\n",
      "Requirement already satisfied: MarkupSafe>=0.23 in /Users/seohuiwon/opt/anaconda3/lib/python3.9/site-packages (from jinja2->pyecharts) (2.0.1)\n",
      "Requirement already satisfied: wcwidth in /Users/seohuiwon/opt/anaconda3/lib/python3.9/site-packages (from prettytable->pyecharts) (0.2.5)\n",
      "Installing collected packages: simplejson, prettytable, pyecharts\n",
      "Successfully installed prettytable-3.4.1 pyecharts-1.9.1 simplejson-3.17.6\n"
     ]
    }
   ],
   "source": [
    "!pip install pyecharts"
   ]
  },
  {
   "cell_type": "code",
   "execution_count": 22,
   "id": "9dec55b7",
   "metadata": {},
   "outputs": [],
   "source": [
    "import pyecharts as pyc      # 동적인 시각화 모듈 "
   ]
  },
  {
   "cell_type": "code",
   "execution_count": 23,
   "id": "62ff23cc",
   "metadata": {},
   "outputs": [
    {
     "data": {
      "text/plain": [
       "'1.9.1'"
      ]
     },
     "execution_count": 23,
     "metadata": {},
     "output_type": "execute_result"
    }
   ],
   "source": [
    "pyc.__version__              # 모듈 버전 확인"
   ]
  },
  {
   "cell_type": "code",
   "execution_count": 24,
   "id": "a2b70f6e",
   "metadata": {},
   "outputs": [],
   "source": [
    "import sklearn as sk         # 머신러닝 지원 모듈"
   ]
  },
  {
   "cell_type": "code",
   "execution_count": 25,
   "id": "a690008b",
   "metadata": {},
   "outputs": [
    {
     "data": {
      "text/plain": [
       "'1.0.2'"
      ]
     },
     "execution_count": 25,
     "metadata": {},
     "output_type": "execute_result"
    }
   ],
   "source": [
    "sk.__version__               # 버전 확인"
   ]
  },
  {
   "cell_type": "code",
   "execution_count": null,
   "id": "e1da92d1",
   "metadata": {},
   "outputs": [],
   "source": []
  }
 ],
 "metadata": {
  "kernelspec": {
   "display_name": "Python 3 (ipykernel)",
   "language": "python",
   "name": "python3"
  },
  "language_info": {
   "codemirror_mode": {
    "name": "ipython",
    "version": 3
   },
   "file_extension": ".py",
   "mimetype": "text/x-python",
   "name": "python",
   "nbconvert_exporter": "python",
   "pygments_lexer": "ipython3",
   "version": "3.9.12"
  }
 },
 "nbformat": 4,
 "nbformat_minor": 5
}
