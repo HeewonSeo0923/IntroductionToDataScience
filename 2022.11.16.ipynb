{
 "cells": [
  {
   "cell_type": "code",
   "execution_count": 1,
   "id": "cc08def5",
   "metadata": {
    "pycharm": {
     "name": "#%%\n"
    }
   },
   "outputs": [],
   "source": [
    "import seaborn as sns\n",
    "import numpy as np\n",
    "import pandas as pd"
   ]
  },
  {
   "cell_type": "code",
   "execution_count": 2,
   "id": "227917a3",
   "metadata": {
    "pycharm": {
     "name": "#%%\n"
    }
   },
   "outputs": [],
   "source": [
    "titanic = sns.load_dataset('titanic')\n",
    "mask1 = (titanic.age >= 10 ) & (titanic.age < 20)"
   ]
  },
  {
   "cell_type": "code",
   "execution_count": 3,
   "id": "c26320d6",
   "metadata": {
    "pycharm": {
     "name": "#%%\n"
    }
   },
   "outputs": [],
   "source": [
    "df_teenage = titanic.loc[mask1, :]"
   ]
  },
  {
   "cell_type": "code",
   "execution_count": 4,
   "id": "99305998",
   "metadata": {
    "pycharm": {
     "name": "#%%\n"
    }
   },
   "outputs": [
    {
     "data": {
      "text/plain": "    survived  pclass     sex   age  sibsp  parch      fare embarked   class  \\\n9          1       2  female  14.0      1      0   30.0708        C  Second   \n14         0       3  female  14.0      0      0    7.8542        S   Third   \n22         1       3  female  15.0      0      0    8.0292        Q   Third   \n27         0       1    male  19.0      3      2  263.0000        S   First   \n38         0       3  female  18.0      2      0   18.0000        S   Third   \n\n      who  adult_male deck  embark_town alive  alone  \n9   child       False  NaN    Cherbourg   yes  False  \n14  child       False  NaN  Southampton    no   True  \n22  child       False  NaN   Queenstown   yes   True  \n27    man        True    C  Southampton    no  False  \n38  woman       False  NaN  Southampton    no  False  ",
      "text/html": "<div>\n<style scoped>\n    .dataframe tbody tr th:only-of-type {\n        vertical-align: middle;\n    }\n\n    .dataframe tbody tr th {\n        vertical-align: top;\n    }\n\n    .dataframe thead th {\n        text-align: right;\n    }\n</style>\n<table border=\"1\" class=\"dataframe\">\n  <thead>\n    <tr style=\"text-align: right;\">\n      <th></th>\n      <th>survived</th>\n      <th>pclass</th>\n      <th>sex</th>\n      <th>age</th>\n      <th>sibsp</th>\n      <th>parch</th>\n      <th>fare</th>\n      <th>embarked</th>\n      <th>class</th>\n      <th>who</th>\n      <th>adult_male</th>\n      <th>deck</th>\n      <th>embark_town</th>\n      <th>alive</th>\n      <th>alone</th>\n    </tr>\n  </thead>\n  <tbody>\n    <tr>\n      <th>9</th>\n      <td>1</td>\n      <td>2</td>\n      <td>female</td>\n      <td>14.0</td>\n      <td>1</td>\n      <td>0</td>\n      <td>30.0708</td>\n      <td>C</td>\n      <td>Second</td>\n      <td>child</td>\n      <td>False</td>\n      <td>NaN</td>\n      <td>Cherbourg</td>\n      <td>yes</td>\n      <td>False</td>\n    </tr>\n    <tr>\n      <th>14</th>\n      <td>0</td>\n      <td>3</td>\n      <td>female</td>\n      <td>14.0</td>\n      <td>0</td>\n      <td>0</td>\n      <td>7.8542</td>\n      <td>S</td>\n      <td>Third</td>\n      <td>child</td>\n      <td>False</td>\n      <td>NaN</td>\n      <td>Southampton</td>\n      <td>no</td>\n      <td>True</td>\n    </tr>\n    <tr>\n      <th>22</th>\n      <td>1</td>\n      <td>3</td>\n      <td>female</td>\n      <td>15.0</td>\n      <td>0</td>\n      <td>0</td>\n      <td>8.0292</td>\n      <td>Q</td>\n      <td>Third</td>\n      <td>child</td>\n      <td>False</td>\n      <td>NaN</td>\n      <td>Queenstown</td>\n      <td>yes</td>\n      <td>True</td>\n    </tr>\n    <tr>\n      <th>27</th>\n      <td>0</td>\n      <td>1</td>\n      <td>male</td>\n      <td>19.0</td>\n      <td>3</td>\n      <td>2</td>\n      <td>263.0000</td>\n      <td>S</td>\n      <td>First</td>\n      <td>man</td>\n      <td>True</td>\n      <td>C</td>\n      <td>Southampton</td>\n      <td>no</td>\n      <td>False</td>\n    </tr>\n    <tr>\n      <th>38</th>\n      <td>0</td>\n      <td>3</td>\n      <td>female</td>\n      <td>18.0</td>\n      <td>2</td>\n      <td>0</td>\n      <td>18.0000</td>\n      <td>S</td>\n      <td>Third</td>\n      <td>woman</td>\n      <td>False</td>\n      <td>NaN</td>\n      <td>Southampton</td>\n      <td>no</td>\n      <td>False</td>\n    </tr>\n  </tbody>\n</table>\n</div>"
     },
     "execution_count": 4,
     "metadata": {},
     "output_type": "execute_result"
    }
   ],
   "source": [
    "df_teenage.head()"
   ]
  },
  {
   "cell_type": "code",
   "execution_count": 5,
   "id": "50356626",
   "metadata": {
    "pycharm": {
     "name": "#%%\n"
    }
   },
   "outputs": [],
   "source": [
    "mask2 = (titanic.age < 10) & (titanic.sex == 'female')"
   ]
  },
  {
   "cell_type": "code",
   "execution_count": 6,
   "id": "6390343b",
   "metadata": {
    "pycharm": {
     "name": "#%%\n"
    }
   },
   "outputs": [],
   "source": [
    "df_female_under10 = titanic.loc[mask2, :]"
   ]
  },
  {
   "cell_type": "code",
   "execution_count": 7,
   "id": "6d255457",
   "metadata": {
    "pycharm": {
     "name": "#%%\n"
    }
   },
   "outputs": [
    {
     "data": {
      "text/plain": "     survived  pclass     sex  age  sibsp  parch     fare embarked   class  \\\n10          1       3  female  4.0      1      1  16.7000        S   Third   \n24          0       3  female  8.0      3      1  21.0750        S   Third   \n43          1       2  female  3.0      1      2  41.5792        C  Second   \n58          1       2  female  5.0      1      2  27.7500        S  Second   \n119         0       3  female  2.0      4      2  31.2750        S   Third   \n\n       who  adult_male deck  embark_town alive  alone  \n10   child       False    G  Southampton   yes  False  \n24   child       False  NaN  Southampton    no  False  \n43   child       False  NaN    Cherbourg   yes  False  \n58   child       False  NaN  Southampton   yes  False  \n119  child       False  NaN  Southampton    no  False  ",
      "text/html": "<div>\n<style scoped>\n    .dataframe tbody tr th:only-of-type {\n        vertical-align: middle;\n    }\n\n    .dataframe tbody tr th {\n        vertical-align: top;\n    }\n\n    .dataframe thead th {\n        text-align: right;\n    }\n</style>\n<table border=\"1\" class=\"dataframe\">\n  <thead>\n    <tr style=\"text-align: right;\">\n      <th></th>\n      <th>survived</th>\n      <th>pclass</th>\n      <th>sex</th>\n      <th>age</th>\n      <th>sibsp</th>\n      <th>parch</th>\n      <th>fare</th>\n      <th>embarked</th>\n      <th>class</th>\n      <th>who</th>\n      <th>adult_male</th>\n      <th>deck</th>\n      <th>embark_town</th>\n      <th>alive</th>\n      <th>alone</th>\n    </tr>\n  </thead>\n  <tbody>\n    <tr>\n      <th>10</th>\n      <td>1</td>\n      <td>3</td>\n      <td>female</td>\n      <td>4.0</td>\n      <td>1</td>\n      <td>1</td>\n      <td>16.7000</td>\n      <td>S</td>\n      <td>Third</td>\n      <td>child</td>\n      <td>False</td>\n      <td>G</td>\n      <td>Southampton</td>\n      <td>yes</td>\n      <td>False</td>\n    </tr>\n    <tr>\n      <th>24</th>\n      <td>0</td>\n      <td>3</td>\n      <td>female</td>\n      <td>8.0</td>\n      <td>3</td>\n      <td>1</td>\n      <td>21.0750</td>\n      <td>S</td>\n      <td>Third</td>\n      <td>child</td>\n      <td>False</td>\n      <td>NaN</td>\n      <td>Southampton</td>\n      <td>no</td>\n      <td>False</td>\n    </tr>\n    <tr>\n      <th>43</th>\n      <td>1</td>\n      <td>2</td>\n      <td>female</td>\n      <td>3.0</td>\n      <td>1</td>\n      <td>2</td>\n      <td>41.5792</td>\n      <td>C</td>\n      <td>Second</td>\n      <td>child</td>\n      <td>False</td>\n      <td>NaN</td>\n      <td>Cherbourg</td>\n      <td>yes</td>\n      <td>False</td>\n    </tr>\n    <tr>\n      <th>58</th>\n      <td>1</td>\n      <td>2</td>\n      <td>female</td>\n      <td>5.0</td>\n      <td>1</td>\n      <td>2</td>\n      <td>27.7500</td>\n      <td>S</td>\n      <td>Second</td>\n      <td>child</td>\n      <td>False</td>\n      <td>NaN</td>\n      <td>Southampton</td>\n      <td>yes</td>\n      <td>False</td>\n    </tr>\n    <tr>\n      <th>119</th>\n      <td>0</td>\n      <td>3</td>\n      <td>female</td>\n      <td>2.0</td>\n      <td>4</td>\n      <td>2</td>\n      <td>31.2750</td>\n      <td>S</td>\n      <td>Third</td>\n      <td>child</td>\n      <td>False</td>\n      <td>NaN</td>\n      <td>Southampton</td>\n      <td>no</td>\n      <td>False</td>\n    </tr>\n  </tbody>\n</table>\n</div>"
     },
     "execution_count": 7,
     "metadata": {},
     "output_type": "execute_result"
    }
   ],
   "source": [
    "df_female_under10.head()"
   ]
  },
  {
   "cell_type": "code",
   "execution_count": 8,
   "id": "d11abe4c",
   "metadata": {
    "pycharm": {
     "name": "#%%\n"
    }
   },
   "outputs": [],
   "source": [
    "mask3 = ((titanic.age < 10) | (titanic.age >= 60)) & (titanic.sex == 'female')"
   ]
  },
  {
   "cell_type": "code",
   "execution_count": 9,
   "id": "54c95e7c",
   "metadata": {
    "pycharm": {
     "name": "#%%\n"
    }
   },
   "outputs": [],
   "source": [
    "df_female_under10_over60 = titanic.loc[mask3, :]"
   ]
  },
  {
   "cell_type": "code",
   "execution_count": 10,
   "id": "60794f32",
   "metadata": {
    "pycharm": {
     "name": "#%%\n"
    }
   },
   "outputs": [
    {
     "data": {
      "text/plain": "     survived  pclass     sex  age  sibsp  parch     fare embarked   class  \\\n10          1       3  female  4.0      1      1  16.7000        S   Third   \n24          0       3  female  8.0      3      1  21.0750        S   Third   \n43          1       2  female  3.0      1      2  41.5792        C  Second   \n58          1       2  female  5.0      1      2  27.7500        S  Second   \n119         0       3  female  2.0      4      2  31.2750        S   Third   \n\n       who  adult_male deck  embark_town alive  alone  \n10   child       False    G  Southampton   yes  False  \n24   child       False  NaN  Southampton    no  False  \n43   child       False  NaN    Cherbourg   yes  False  \n58   child       False  NaN  Southampton   yes  False  \n119  child       False  NaN  Southampton    no  False  ",
      "text/html": "<div>\n<style scoped>\n    .dataframe tbody tr th:only-of-type {\n        vertical-align: middle;\n    }\n\n    .dataframe tbody tr th {\n        vertical-align: top;\n    }\n\n    .dataframe thead th {\n        text-align: right;\n    }\n</style>\n<table border=\"1\" class=\"dataframe\">\n  <thead>\n    <tr style=\"text-align: right;\">\n      <th></th>\n      <th>survived</th>\n      <th>pclass</th>\n      <th>sex</th>\n      <th>age</th>\n      <th>sibsp</th>\n      <th>parch</th>\n      <th>fare</th>\n      <th>embarked</th>\n      <th>class</th>\n      <th>who</th>\n      <th>adult_male</th>\n      <th>deck</th>\n      <th>embark_town</th>\n      <th>alive</th>\n      <th>alone</th>\n    </tr>\n  </thead>\n  <tbody>\n    <tr>\n      <th>10</th>\n      <td>1</td>\n      <td>3</td>\n      <td>female</td>\n      <td>4.0</td>\n      <td>1</td>\n      <td>1</td>\n      <td>16.7000</td>\n      <td>S</td>\n      <td>Third</td>\n      <td>child</td>\n      <td>False</td>\n      <td>G</td>\n      <td>Southampton</td>\n      <td>yes</td>\n      <td>False</td>\n    </tr>\n    <tr>\n      <th>24</th>\n      <td>0</td>\n      <td>3</td>\n      <td>female</td>\n      <td>8.0</td>\n      <td>3</td>\n      <td>1</td>\n      <td>21.0750</td>\n      <td>S</td>\n      <td>Third</td>\n      <td>child</td>\n      <td>False</td>\n      <td>NaN</td>\n      <td>Southampton</td>\n      <td>no</td>\n      <td>False</td>\n    </tr>\n    <tr>\n      <th>43</th>\n      <td>1</td>\n      <td>2</td>\n      <td>female</td>\n      <td>3.0</td>\n      <td>1</td>\n      <td>2</td>\n      <td>41.5792</td>\n      <td>C</td>\n      <td>Second</td>\n      <td>child</td>\n      <td>False</td>\n      <td>NaN</td>\n      <td>Cherbourg</td>\n      <td>yes</td>\n      <td>False</td>\n    </tr>\n    <tr>\n      <th>58</th>\n      <td>1</td>\n      <td>2</td>\n      <td>female</td>\n      <td>5.0</td>\n      <td>1</td>\n      <td>2</td>\n      <td>27.7500</td>\n      <td>S</td>\n      <td>Second</td>\n      <td>child</td>\n      <td>False</td>\n      <td>NaN</td>\n      <td>Southampton</td>\n      <td>yes</td>\n      <td>False</td>\n    </tr>\n    <tr>\n      <th>119</th>\n      <td>0</td>\n      <td>3</td>\n      <td>female</td>\n      <td>2.0</td>\n      <td>4</td>\n      <td>2</td>\n      <td>31.2750</td>\n      <td>S</td>\n      <td>Third</td>\n      <td>child</td>\n      <td>False</td>\n      <td>NaN</td>\n      <td>Southampton</td>\n      <td>no</td>\n      <td>False</td>\n    </tr>\n  </tbody>\n</table>\n</div>"
     },
     "execution_count": 10,
     "metadata": {},
     "output_type": "execute_result"
    }
   ],
   "source": [
    "df_female_under10_over60.head()"
   ]
  },
  {
   "cell_type": "code",
   "execution_count": 11,
   "id": "08f67f0f",
   "metadata": {
    "pycharm": {
     "name": "#%%\n"
    }
   },
   "outputs": [],
   "source": [
    "pd.set_option('display.max_columns', 10)"
   ]
  },
  {
   "cell_type": "code",
   "execution_count": 12,
   "id": "66cbcad1",
   "metadata": {
    "pycharm": {
     "name": "#%%\n"
    }
   },
   "outputs": [],
   "source": [
    "mask3 = titanic.sibsp == 3"
   ]
  },
  {
   "cell_type": "code",
   "execution_count": 13,
   "id": "278314e6",
   "metadata": {
    "pycharm": {
     "name": "#%%\n"
    }
   },
   "outputs": [],
   "source": [
    "mask4 = titanic.sibsp == 4\n",
    "mask5 = titanic.sibsp == 5"
   ]
  },
  {
   "cell_type": "code",
   "execution_count": 14,
   "id": "16448a52",
   "metadata": {
    "pycharm": {
     "name": "#%%\n"
    }
   },
   "outputs": [],
   "source": [
    "df_boolean = titanic[mask3 | mask4 | mask5]"
   ]
  },
  {
   "cell_type": "code",
   "execution_count": 15,
   "id": "dd5338d7",
   "metadata": {
    "pycharm": {
     "name": "#%%\n"
    }
   },
   "outputs": [
    {
     "data": {
      "text/plain": "    survived  pclass     sex   age  sibsp  ...  adult_male  deck  embark_town  \\\n7          0       3    male   2.0      3  ...       False   NaN  Southampton   \n16         0       3    male   2.0      4  ...       False   NaN   Queenstown   \n24         0       3  female   8.0      3  ...       False   NaN  Southampton   \n27         0       1    male  19.0      3  ...        True     C  Southampton   \n50         0       3    male   7.0      4  ...       False   NaN  Southampton   \n\n   alive  alone  \n7     no  False  \n16    no  False  \n24    no  False  \n27    no  False  \n50    no  False  \n\n[5 rows x 15 columns]",
      "text/html": "<div>\n<style scoped>\n    .dataframe tbody tr th:only-of-type {\n        vertical-align: middle;\n    }\n\n    .dataframe tbody tr th {\n        vertical-align: top;\n    }\n\n    .dataframe thead th {\n        text-align: right;\n    }\n</style>\n<table border=\"1\" class=\"dataframe\">\n  <thead>\n    <tr style=\"text-align: right;\">\n      <th></th>\n      <th>survived</th>\n      <th>pclass</th>\n      <th>sex</th>\n      <th>age</th>\n      <th>sibsp</th>\n      <th>...</th>\n      <th>adult_male</th>\n      <th>deck</th>\n      <th>embark_town</th>\n      <th>alive</th>\n      <th>alone</th>\n    </tr>\n  </thead>\n  <tbody>\n    <tr>\n      <th>7</th>\n      <td>0</td>\n      <td>3</td>\n      <td>male</td>\n      <td>2.0</td>\n      <td>3</td>\n      <td>...</td>\n      <td>False</td>\n      <td>NaN</td>\n      <td>Southampton</td>\n      <td>no</td>\n      <td>False</td>\n    </tr>\n    <tr>\n      <th>16</th>\n      <td>0</td>\n      <td>3</td>\n      <td>male</td>\n      <td>2.0</td>\n      <td>4</td>\n      <td>...</td>\n      <td>False</td>\n      <td>NaN</td>\n      <td>Queenstown</td>\n      <td>no</td>\n      <td>False</td>\n    </tr>\n    <tr>\n      <th>24</th>\n      <td>0</td>\n      <td>3</td>\n      <td>female</td>\n      <td>8.0</td>\n      <td>3</td>\n      <td>...</td>\n      <td>False</td>\n      <td>NaN</td>\n      <td>Southampton</td>\n      <td>no</td>\n      <td>False</td>\n    </tr>\n    <tr>\n      <th>27</th>\n      <td>0</td>\n      <td>1</td>\n      <td>male</td>\n      <td>19.0</td>\n      <td>3</td>\n      <td>...</td>\n      <td>True</td>\n      <td>C</td>\n      <td>Southampton</td>\n      <td>no</td>\n      <td>False</td>\n    </tr>\n    <tr>\n      <th>50</th>\n      <td>0</td>\n      <td>3</td>\n      <td>male</td>\n      <td>7.0</td>\n      <td>4</td>\n      <td>...</td>\n      <td>False</td>\n      <td>NaN</td>\n      <td>Southampton</td>\n      <td>no</td>\n      <td>False</td>\n    </tr>\n  </tbody>\n</table>\n<p>5 rows × 15 columns</p>\n</div>"
     },
     "execution_count": 15,
     "metadata": {},
     "output_type": "execute_result"
    }
   ],
   "source": [
    "df_boolean.head()"
   ]
  },
  {
   "cell_type": "code",
   "execution_count": 16,
   "id": "aa91cf2e",
   "metadata": {
    "pycharm": {
     "name": "#%%\n"
    }
   },
   "outputs": [],
   "source": [
    "# make data frame\n",
    "df1 = pd.DataFrame({'a' : ['a0', 'a1', 'a2', 'a3'],\n",
    "                    'b' : ['b0', 'b1', 'b2', 'b3'],\n",
    "                    'c' : ['c0', 'c1', 'c2', 'c3']},\n",
    "                    index= [0, 1, 2, 3])"
   ]
  },
  {
   "cell_type": "code",
   "execution_count": 17,
   "id": "fc8ed078",
   "metadata": {
    "pycharm": {
     "name": "#%%\n"
    }
   },
   "outputs": [],
   "source": [
    "df2 = pd.DataFrame({'a' : ['a2', 'a3', 'a4', 'a5'],\n",
    "                    'b' : ['b2', 'b3', 'b4', 'b5'],\n",
    "                    'c' : ['c2', 'c3', 'c4', 'c5'],\n",
    "                    'd' : ['d2', 'd3', 'd4', 'd5']},\n",
    "                    index=[2,3,4,5])"
   ]
  },
  {
   "cell_type": "code",
   "execution_count": 18,
   "id": "fa48d51d",
   "metadata": {
    "pycharm": {
     "name": "#%%\n"
    }
   },
   "outputs": [
    {
     "data": {
      "text/plain": "    a   b   c\n0  a0  b0  c0\n1  a1  b1  c1\n2  a2  b2  c2\n3  a3  b3  c3",
      "text/html": "<div>\n<style scoped>\n    .dataframe tbody tr th:only-of-type {\n        vertical-align: middle;\n    }\n\n    .dataframe tbody tr th {\n        vertical-align: top;\n    }\n\n    .dataframe thead th {\n        text-align: right;\n    }\n</style>\n<table border=\"1\" class=\"dataframe\">\n  <thead>\n    <tr style=\"text-align: right;\">\n      <th></th>\n      <th>a</th>\n      <th>b</th>\n      <th>c</th>\n    </tr>\n  </thead>\n  <tbody>\n    <tr>\n      <th>0</th>\n      <td>a0</td>\n      <td>b0</td>\n      <td>c0</td>\n    </tr>\n    <tr>\n      <th>1</th>\n      <td>a1</td>\n      <td>b1</td>\n      <td>c1</td>\n    </tr>\n    <tr>\n      <th>2</th>\n      <td>a2</td>\n      <td>b2</td>\n      <td>c2</td>\n    </tr>\n    <tr>\n      <th>3</th>\n      <td>a3</td>\n      <td>b3</td>\n      <td>c3</td>\n    </tr>\n  </tbody>\n</table>\n</div>"
     },
     "execution_count": 18,
     "metadata": {},
     "output_type": "execute_result"
    }
   ],
   "source": [
    "df1"
   ]
  },
  {
   "cell_type": "code",
   "execution_count": 19,
   "id": "eed24dc4",
   "metadata": {
    "pycharm": {
     "name": "#%%\n"
    }
   },
   "outputs": [
    {
     "data": {
      "text/plain": "    a   b   c   d\n2  a2  b2  c2  d2\n3  a3  b3  c3  d3\n4  a4  b4  c4  d4\n5  a5  b5  c5  d5",
      "text/html": "<div>\n<style scoped>\n    .dataframe tbody tr th:only-of-type {\n        vertical-align: middle;\n    }\n\n    .dataframe tbody tr th {\n        vertical-align: top;\n    }\n\n    .dataframe thead th {\n        text-align: right;\n    }\n</style>\n<table border=\"1\" class=\"dataframe\">\n  <thead>\n    <tr style=\"text-align: right;\">\n      <th></th>\n      <th>a</th>\n      <th>b</th>\n      <th>c</th>\n      <th>d</th>\n    </tr>\n  </thead>\n  <tbody>\n    <tr>\n      <th>2</th>\n      <td>a2</td>\n      <td>b2</td>\n      <td>c2</td>\n      <td>d2</td>\n    </tr>\n    <tr>\n      <th>3</th>\n      <td>a3</td>\n      <td>b3</td>\n      <td>c3</td>\n      <td>d3</td>\n    </tr>\n    <tr>\n      <th>4</th>\n      <td>a4</td>\n      <td>b4</td>\n      <td>c4</td>\n      <td>d4</td>\n    </tr>\n    <tr>\n      <th>5</th>\n      <td>a5</td>\n      <td>b5</td>\n      <td>c5</td>\n      <td>d5</td>\n    </tr>\n  </tbody>\n</table>\n</div>"
     },
     "execution_count": 19,
     "metadata": {},
     "output_type": "execute_result"
    }
   ],
   "source": [
    "df2"
   ]
  },
  {
   "cell_type": "code",
   "execution_count": 20,
   "id": "fb531992",
   "metadata": {
    "pycharm": {
     "name": "#%%\n"
    }
   },
   "outputs": [],
   "source": [
    "result = pd.concat([df1, df2])"
   ]
  },
  {
   "cell_type": "code",
   "execution_count": 21,
   "id": "5ddf53e5",
   "metadata": {
    "pycharm": {
     "name": "#%%\n"
    }
   },
   "outputs": [
    {
     "data": {
      "text/plain": "    a   b   c    d\n0  a0  b0  c0  NaN\n1  a1  b1  c1  NaN\n2  a2  b2  c2  NaN\n3  a3  b3  c3  NaN\n2  a2  b2  c2   d2\n3  a3  b3  c3   d3\n4  a4  b4  c4   d4\n5  a5  b5  c5   d5",
      "text/html": "<div>\n<style scoped>\n    .dataframe tbody tr th:only-of-type {\n        vertical-align: middle;\n    }\n\n    .dataframe tbody tr th {\n        vertical-align: top;\n    }\n\n    .dataframe thead th {\n        text-align: right;\n    }\n</style>\n<table border=\"1\" class=\"dataframe\">\n  <thead>\n    <tr style=\"text-align: right;\">\n      <th></th>\n      <th>a</th>\n      <th>b</th>\n      <th>c</th>\n      <th>d</th>\n    </tr>\n  </thead>\n  <tbody>\n    <tr>\n      <th>0</th>\n      <td>a0</td>\n      <td>b0</td>\n      <td>c0</td>\n      <td>NaN</td>\n    </tr>\n    <tr>\n      <th>1</th>\n      <td>a1</td>\n      <td>b1</td>\n      <td>c1</td>\n      <td>NaN</td>\n    </tr>\n    <tr>\n      <th>2</th>\n      <td>a2</td>\n      <td>b2</td>\n      <td>c2</td>\n      <td>NaN</td>\n    </tr>\n    <tr>\n      <th>3</th>\n      <td>a3</td>\n      <td>b3</td>\n      <td>c3</td>\n      <td>NaN</td>\n    </tr>\n    <tr>\n      <th>2</th>\n      <td>a2</td>\n      <td>b2</td>\n      <td>c2</td>\n      <td>d2</td>\n    </tr>\n    <tr>\n      <th>3</th>\n      <td>a3</td>\n      <td>b3</td>\n      <td>c3</td>\n      <td>d3</td>\n    </tr>\n    <tr>\n      <th>4</th>\n      <td>a4</td>\n      <td>b4</td>\n      <td>c4</td>\n      <td>d4</td>\n    </tr>\n    <tr>\n      <th>5</th>\n      <td>a5</td>\n      <td>b5</td>\n      <td>c5</td>\n      <td>d5</td>\n    </tr>\n  </tbody>\n</table>\n</div>"
     },
     "execution_count": 21,
     "metadata": {},
     "output_type": "execute_result"
    }
   ],
   "source": [
    "result"
   ]
  },
  {
   "cell_type": "code",
   "execution_count": 22,
   "id": "879f114e",
   "metadata": {
    "pycharm": {
     "name": "#%%\n"
    }
   },
   "outputs": [],
   "source": [
    "result2 = pd.concat([df1, df2], ignore_index=True)"
   ]
  },
  {
   "cell_type": "code",
   "execution_count": 23,
   "id": "1cc50581",
   "metadata": {
    "pycharm": {
     "name": "#%%\n"
    }
   },
   "outputs": [
    {
     "data": {
      "text/plain": "    a   b   c    d\n0  a0  b0  c0  NaN\n1  a1  b1  c1  NaN\n2  a2  b2  c2  NaN\n3  a3  b3  c3  NaN\n4  a2  b2  c2   d2\n5  a3  b3  c3   d3\n6  a4  b4  c4   d4\n7  a5  b5  c5   d5",
      "text/html": "<div>\n<style scoped>\n    .dataframe tbody tr th:only-of-type {\n        vertical-align: middle;\n    }\n\n    .dataframe tbody tr th {\n        vertical-align: top;\n    }\n\n    .dataframe thead th {\n        text-align: right;\n    }\n</style>\n<table border=\"1\" class=\"dataframe\">\n  <thead>\n    <tr style=\"text-align: right;\">\n      <th></th>\n      <th>a</th>\n      <th>b</th>\n      <th>c</th>\n      <th>d</th>\n    </tr>\n  </thead>\n  <tbody>\n    <tr>\n      <th>0</th>\n      <td>a0</td>\n      <td>b0</td>\n      <td>c0</td>\n      <td>NaN</td>\n    </tr>\n    <tr>\n      <th>1</th>\n      <td>a1</td>\n      <td>b1</td>\n      <td>c1</td>\n      <td>NaN</td>\n    </tr>\n    <tr>\n      <th>2</th>\n      <td>a2</td>\n      <td>b2</td>\n      <td>c2</td>\n      <td>NaN</td>\n    </tr>\n    <tr>\n      <th>3</th>\n      <td>a3</td>\n      <td>b3</td>\n      <td>c3</td>\n      <td>NaN</td>\n    </tr>\n    <tr>\n      <th>4</th>\n      <td>a2</td>\n      <td>b2</td>\n      <td>c2</td>\n      <td>d2</td>\n    </tr>\n    <tr>\n      <th>5</th>\n      <td>a3</td>\n      <td>b3</td>\n      <td>c3</td>\n      <td>d3</td>\n    </tr>\n    <tr>\n      <th>6</th>\n      <td>a4</td>\n      <td>b4</td>\n      <td>c4</td>\n      <td>d4</td>\n    </tr>\n    <tr>\n      <th>7</th>\n      <td>a5</td>\n      <td>b5</td>\n      <td>c5</td>\n      <td>d5</td>\n    </tr>\n  </tbody>\n</table>\n</div>"
     },
     "execution_count": 23,
     "metadata": {},
     "output_type": "execute_result"
    }
   ],
   "source": [
    "result2"
   ]
  },
  {
   "cell_type": "code",
   "execution_count": 24,
   "id": "8c6e0f6c",
   "metadata": {
    "pycharm": {
     "name": "#%%\n"
    }
   },
   "outputs": [],
   "source": [
    "result3 = pd.concat([df1, df2], axis = 1)"
   ]
  },
  {
   "cell_type": "code",
   "execution_count": 25,
   "id": "aca53df6",
   "metadata": {
    "pycharm": {
     "name": "#%%\n"
    }
   },
   "outputs": [
    {
     "data": {
      "text/plain": "     a    b    c    a    b    c    d\n0   a0   b0   c0  NaN  NaN  NaN  NaN\n1   a1   b1   c1  NaN  NaN  NaN  NaN\n2   a2   b2   c2   a2   b2   c2   d2\n3   a3   b3   c3   a3   b3   c3   d3\n4  NaN  NaN  NaN   a4   b4   c4   d4\n5  NaN  NaN  NaN   a5   b5   c5   d5",
      "text/html": "<div>\n<style scoped>\n    .dataframe tbody tr th:only-of-type {\n        vertical-align: middle;\n    }\n\n    .dataframe tbody tr th {\n        vertical-align: top;\n    }\n\n    .dataframe thead th {\n        text-align: right;\n    }\n</style>\n<table border=\"1\" class=\"dataframe\">\n  <thead>\n    <tr style=\"text-align: right;\">\n      <th></th>\n      <th>a</th>\n      <th>b</th>\n      <th>c</th>\n      <th>a</th>\n      <th>b</th>\n      <th>c</th>\n      <th>d</th>\n    </tr>\n  </thead>\n  <tbody>\n    <tr>\n      <th>0</th>\n      <td>a0</td>\n      <td>b0</td>\n      <td>c0</td>\n      <td>NaN</td>\n      <td>NaN</td>\n      <td>NaN</td>\n      <td>NaN</td>\n    </tr>\n    <tr>\n      <th>1</th>\n      <td>a1</td>\n      <td>b1</td>\n      <td>c1</td>\n      <td>NaN</td>\n      <td>NaN</td>\n      <td>NaN</td>\n      <td>NaN</td>\n    </tr>\n    <tr>\n      <th>2</th>\n      <td>a2</td>\n      <td>b2</td>\n      <td>c2</td>\n      <td>a2</td>\n      <td>b2</td>\n      <td>c2</td>\n      <td>d2</td>\n    </tr>\n    <tr>\n      <th>3</th>\n      <td>a3</td>\n      <td>b3</td>\n      <td>c3</td>\n      <td>a3</td>\n      <td>b3</td>\n      <td>c3</td>\n      <td>d3</td>\n    </tr>\n    <tr>\n      <th>4</th>\n      <td>NaN</td>\n      <td>NaN</td>\n      <td>NaN</td>\n      <td>a4</td>\n      <td>b4</td>\n      <td>c4</td>\n      <td>d4</td>\n    </tr>\n    <tr>\n      <th>5</th>\n      <td>NaN</td>\n      <td>NaN</td>\n      <td>NaN</td>\n      <td>a5</td>\n      <td>b5</td>\n      <td>c5</td>\n      <td>d5</td>\n    </tr>\n  </tbody>\n</table>\n</div>"
     },
     "execution_count": 25,
     "metadata": {},
     "output_type": "execute_result"
    }
   ],
   "source": [
    "result3"
   ]
  },
  {
   "cell_type": "code",
   "execution_count": 26,
   "id": "e1ad5127",
   "metadata": {
    "pycharm": {
     "name": "#%%\n"
    }
   },
   "outputs": [],
   "source": [
    "result3_in = pd.concat([df1, df2], axis = 1, join = 'inner')"
   ]
  },
  {
   "cell_type": "code",
   "execution_count": 27,
   "id": "91ea29d2",
   "metadata": {
    "pycharm": {
     "name": "#%%\n"
    }
   },
   "outputs": [
    {
     "data": {
      "text/plain": "    a   b   c   a   b   c   d\n2  a2  b2  c2  a2  b2  c2  d2\n3  a3  b3  c3  a3  b3  c3  d3",
      "text/html": "<div>\n<style scoped>\n    .dataframe tbody tr th:only-of-type {\n        vertical-align: middle;\n    }\n\n    .dataframe tbody tr th {\n        vertical-align: top;\n    }\n\n    .dataframe thead th {\n        text-align: right;\n    }\n</style>\n<table border=\"1\" class=\"dataframe\">\n  <thead>\n    <tr style=\"text-align: right;\">\n      <th></th>\n      <th>a</th>\n      <th>b</th>\n      <th>c</th>\n      <th>a</th>\n      <th>b</th>\n      <th>c</th>\n      <th>d</th>\n    </tr>\n  </thead>\n  <tbody>\n    <tr>\n      <th>2</th>\n      <td>a2</td>\n      <td>b2</td>\n      <td>c2</td>\n      <td>a2</td>\n      <td>b2</td>\n      <td>c2</td>\n      <td>d2</td>\n    </tr>\n    <tr>\n      <th>3</th>\n      <td>a3</td>\n      <td>b3</td>\n      <td>c3</td>\n      <td>a3</td>\n      <td>b3</td>\n      <td>c3</td>\n      <td>d3</td>\n    </tr>\n  </tbody>\n</table>\n</div>"
     },
     "execution_count": 27,
     "metadata": {},
     "output_type": "execute_result"
    }
   ],
   "source": [
    "result3_in"
   ]
  },
  {
   "cell_type": "code",
   "execution_count": 28,
   "id": "10bacc05",
   "metadata": {
    "pycharm": {
     "name": "#%%\n"
    }
   },
   "outputs": [],
   "source": [
    "sr1 = pd.Series(['e0', 'e1', 'e2', 'e3'], name = 'e')\n",
    "sr2 = pd.Series(['f0', 'f1', 'f2'], name='f', index=[3, 4, 5])\n",
    "sr3 = pd.Series(['g0', 'g1', 'g2', 'g3'], name = 'g')"
   ]
  },
  {
   "cell_type": "code",
   "execution_count": 29,
   "id": "63598fda",
   "metadata": {
    "pycharm": {
     "name": "#%%\n"
    }
   },
   "outputs": [],
   "source": [
    "result4 = pd.concat([df1, sr1], axis = 1)"
   ]
  },
  {
   "cell_type": "code",
   "execution_count": 30,
   "id": "dbeb585a",
   "metadata": {
    "pycharm": {
     "name": "#%%\n"
    }
   },
   "outputs": [
    {
     "data": {
      "text/plain": "    a   b   c   e\n0  a0  b0  c0  e0\n1  a1  b1  c1  e1\n2  a2  b2  c2  e2\n3  a3  b3  c3  e3",
      "text/html": "<div>\n<style scoped>\n    .dataframe tbody tr th:only-of-type {\n        vertical-align: middle;\n    }\n\n    .dataframe tbody tr th {\n        vertical-align: top;\n    }\n\n    .dataframe thead th {\n        text-align: right;\n    }\n</style>\n<table border=\"1\" class=\"dataframe\">\n  <thead>\n    <tr style=\"text-align: right;\">\n      <th></th>\n      <th>a</th>\n      <th>b</th>\n      <th>c</th>\n      <th>e</th>\n    </tr>\n  </thead>\n  <tbody>\n    <tr>\n      <th>0</th>\n      <td>a0</td>\n      <td>b0</td>\n      <td>c0</td>\n      <td>e0</td>\n    </tr>\n    <tr>\n      <th>1</th>\n      <td>a1</td>\n      <td>b1</td>\n      <td>c1</td>\n      <td>e1</td>\n    </tr>\n    <tr>\n      <th>2</th>\n      <td>a2</td>\n      <td>b2</td>\n      <td>c2</td>\n      <td>e2</td>\n    </tr>\n    <tr>\n      <th>3</th>\n      <td>a3</td>\n      <td>b3</td>\n      <td>c3</td>\n      <td>e3</td>\n    </tr>\n  </tbody>\n</table>\n</div>"
     },
     "execution_count": 30,
     "metadata": {},
     "output_type": "execute_result"
    }
   ],
   "source": [
    "result4"
   ]
  },
  {
   "cell_type": "code",
   "execution_count": 31,
   "id": "2440ebdc",
   "metadata": {
    "pycharm": {
     "name": "#%%\n"
    }
   },
   "outputs": [],
   "source": [
    "result5= pd.concat([df2,sr2],axis = 1 , sort=True)"
   ]
  },
  {
   "cell_type": "code",
   "execution_count": 32,
   "id": "ca54383b",
   "metadata": {
    "pycharm": {
     "name": "#%%\n"
    }
   },
   "outputs": [
    {
     "data": {
      "text/plain": "    a   b   c   d    f\n2  a2  b2  c2  d2  NaN\n3  a3  b3  c3  d3   f0\n4  a4  b4  c4  d4   f1\n5  a5  b5  c5  d5   f2",
      "text/html": "<div>\n<style scoped>\n    .dataframe tbody tr th:only-of-type {\n        vertical-align: middle;\n    }\n\n    .dataframe tbody tr th {\n        vertical-align: top;\n    }\n\n    .dataframe thead th {\n        text-align: right;\n    }\n</style>\n<table border=\"1\" class=\"dataframe\">\n  <thead>\n    <tr style=\"text-align: right;\">\n      <th></th>\n      <th>a</th>\n      <th>b</th>\n      <th>c</th>\n      <th>d</th>\n      <th>f</th>\n    </tr>\n  </thead>\n  <tbody>\n    <tr>\n      <th>2</th>\n      <td>a2</td>\n      <td>b2</td>\n      <td>c2</td>\n      <td>d2</td>\n      <td>NaN</td>\n    </tr>\n    <tr>\n      <th>3</th>\n      <td>a3</td>\n      <td>b3</td>\n      <td>c3</td>\n      <td>d3</td>\n      <td>f0</td>\n    </tr>\n    <tr>\n      <th>4</th>\n      <td>a4</td>\n      <td>b4</td>\n      <td>c4</td>\n      <td>d4</td>\n      <td>f1</td>\n    </tr>\n    <tr>\n      <th>5</th>\n      <td>a5</td>\n      <td>b5</td>\n      <td>c5</td>\n      <td>d5</td>\n      <td>f2</td>\n    </tr>\n  </tbody>\n</table>\n</div>"
     },
     "execution_count": 32,
     "metadata": {},
     "output_type": "execute_result"
    }
   ],
   "source": [
    "result5"
   ]
  },
  {
   "cell_type": "code",
   "execution_count": 33,
   "id": "4f7f66c1",
   "metadata": {
    "pycharm": {
     "name": "#%%\n"
    }
   },
   "outputs": [],
   "source": [
    "result6 = pd.concat([sr1, sr3], axis = 1)"
   ]
  },
  {
   "cell_type": "code",
   "execution_count": 34,
   "id": "ce5ccaa4",
   "metadata": {
    "pycharm": {
     "name": "#%%\n"
    }
   },
   "outputs": [
    {
     "data": {
      "text/plain": "    e   g\n0  e0  g0\n1  e1  g1\n2  e2  g2\n3  e3  g3",
      "text/html": "<div>\n<style scoped>\n    .dataframe tbody tr th:only-of-type {\n        vertical-align: middle;\n    }\n\n    .dataframe tbody tr th {\n        vertical-align: top;\n    }\n\n    .dataframe thead th {\n        text-align: right;\n    }\n</style>\n<table border=\"1\" class=\"dataframe\">\n  <thead>\n    <tr style=\"text-align: right;\">\n      <th></th>\n      <th>e</th>\n      <th>g</th>\n    </tr>\n  </thead>\n  <tbody>\n    <tr>\n      <th>0</th>\n      <td>e0</td>\n      <td>g0</td>\n    </tr>\n    <tr>\n      <th>1</th>\n      <td>e1</td>\n      <td>g1</td>\n    </tr>\n    <tr>\n      <th>2</th>\n      <td>e2</td>\n      <td>g2</td>\n    </tr>\n    <tr>\n      <th>3</th>\n      <td>e3</td>\n      <td>g3</td>\n    </tr>\n  </tbody>\n</table>\n</div>"
     },
     "execution_count": 34,
     "metadata": {},
     "output_type": "execute_result"
    }
   ],
   "source": [
    "result6"
   ]
  },
  {
   "cell_type": "code",
   "execution_count": 35,
   "id": "06d1432e",
   "metadata": {
    "pycharm": {
     "name": "#%%\n"
    }
   },
   "outputs": [],
   "source": [
    "result7 = pd.concat([sr1, sr3], axis = 0)"
   ]
  },
  {
   "cell_type": "code",
   "execution_count": 36,
   "id": "d8181586",
   "metadata": {
    "pycharm": {
     "name": "#%%\n"
    }
   },
   "outputs": [
    {
     "data": {
      "text/plain": "0    e0\n1    e1\n2    e2\n3    e3\n0    g0\n1    g1\n2    g2\n3    g3\ndtype: object"
     },
     "execution_count": 36,
     "metadata": {},
     "output_type": "execute_result"
    }
   ],
   "source": [
    "result7"
   ]
  },
  {
   "cell_type": "code",
   "execution_count": 37,
   "id": "69718cb1",
   "metadata": {
    "pycharm": {
     "name": "#%%\n"
    }
   },
   "outputs": [],
   "source": [
    "df1 = pd.read_excel(\"stock price.xlsx\", engine='openpyxl')\n",
    "df2 = pd.read_excel('stock valuation.xlsx', engine='openpyxl')"
   ]
  },
  {
   "cell_type": "code",
   "execution_count": 38,
   "id": "04bc6cd2",
   "metadata": {
    "pycharm": {
     "name": "#%%\n"
    }
   },
   "outputs": [
    {
     "data": {
      "text/plain": "       id stock_name          value   price\n0  128940       한미약품   59385.666667  421000\n1  130960     CJ E&M   58540.666667   98900\n2  138250      엔에스쇼핑   14558.666667   13200\n3  139480        이마트  239230.833333  254500\n4  142280     녹십자엠에스     468.833333   10200\n5  145990        삼양사   82750.000000   82000\n6  185750        종근당   40293.666667  100500\n7  192400      쿠쿠홀딩스  179204.666667  177500\n8  199800         툴젠   -2514.333333  115400\n9  204210     모두투어리츠    3093.333333    3475",
      "text/html": "<div>\n<style scoped>\n    .dataframe tbody tr th:only-of-type {\n        vertical-align: middle;\n    }\n\n    .dataframe tbody tr th {\n        vertical-align: top;\n    }\n\n    .dataframe thead th {\n        text-align: right;\n    }\n</style>\n<table border=\"1\" class=\"dataframe\">\n  <thead>\n    <tr style=\"text-align: right;\">\n      <th></th>\n      <th>id</th>\n      <th>stock_name</th>\n      <th>value</th>\n      <th>price</th>\n    </tr>\n  </thead>\n  <tbody>\n    <tr>\n      <th>0</th>\n      <td>128940</td>\n      <td>한미약품</td>\n      <td>59385.666667</td>\n      <td>421000</td>\n    </tr>\n    <tr>\n      <th>1</th>\n      <td>130960</td>\n      <td>CJ E&amp;M</td>\n      <td>58540.666667</td>\n      <td>98900</td>\n    </tr>\n    <tr>\n      <th>2</th>\n      <td>138250</td>\n      <td>엔에스쇼핑</td>\n      <td>14558.666667</td>\n      <td>13200</td>\n    </tr>\n    <tr>\n      <th>3</th>\n      <td>139480</td>\n      <td>이마트</td>\n      <td>239230.833333</td>\n      <td>254500</td>\n    </tr>\n    <tr>\n      <th>4</th>\n      <td>142280</td>\n      <td>녹십자엠에스</td>\n      <td>468.833333</td>\n      <td>10200</td>\n    </tr>\n    <tr>\n      <th>5</th>\n      <td>145990</td>\n      <td>삼양사</td>\n      <td>82750.000000</td>\n      <td>82000</td>\n    </tr>\n    <tr>\n      <th>6</th>\n      <td>185750</td>\n      <td>종근당</td>\n      <td>40293.666667</td>\n      <td>100500</td>\n    </tr>\n    <tr>\n      <th>7</th>\n      <td>192400</td>\n      <td>쿠쿠홀딩스</td>\n      <td>179204.666667</td>\n      <td>177500</td>\n    </tr>\n    <tr>\n      <th>8</th>\n      <td>199800</td>\n      <td>툴젠</td>\n      <td>-2514.333333</td>\n      <td>115400</td>\n    </tr>\n    <tr>\n      <th>9</th>\n      <td>204210</td>\n      <td>모두투어리츠</td>\n      <td>3093.333333</td>\n      <td>3475</td>\n    </tr>\n  </tbody>\n</table>\n</div>"
     },
     "execution_count": 38,
     "metadata": {},
     "output_type": "execute_result"
    }
   ],
   "source": [
    "df1"
   ]
  },
  {
   "cell_type": "code",
   "execution_count": 39,
   "id": "52f34afa",
   "metadata": {
    "pycharm": {
     "name": "#%%\n"
    }
   },
   "outputs": [
    {
     "data": {
      "text/plain": "       id       name           eps     bps        per       pbr\n0  130960     CJ E&M   6301.333333   54068  15.695091  1.829178\n1  136480         하림    274.166667    3551  11.489362  0.887074\n2  138040    메리츠금융지주   2122.333333   14894   6.313806  0.899691\n3  139480        이마트  18268.166667  295780  13.931338  0.860437\n4  145990        삼양사   5741.000000  108090  14.283226  0.758627\n5  161390      한국타이어   5648.500000   51341   7.453306  0.820007\n6  181710  NHN엔터테인먼트   2110.166667   78434  30.755864  0.827447\n7  185750        종근당   3990.333333   40684  25.185866  2.470259\n8  204210     모두투어리츠     85.166667    5335  40.802348  0.651359\n9  207940   삼성바이오로직스   4644.166667   60099  89.790059  6.938551",
      "text/html": "<div>\n<style scoped>\n    .dataframe tbody tr th:only-of-type {\n        vertical-align: middle;\n    }\n\n    .dataframe tbody tr th {\n        vertical-align: top;\n    }\n\n    .dataframe thead th {\n        text-align: right;\n    }\n</style>\n<table border=\"1\" class=\"dataframe\">\n  <thead>\n    <tr style=\"text-align: right;\">\n      <th></th>\n      <th>id</th>\n      <th>name</th>\n      <th>eps</th>\n      <th>bps</th>\n      <th>per</th>\n      <th>pbr</th>\n    </tr>\n  </thead>\n  <tbody>\n    <tr>\n      <th>0</th>\n      <td>130960</td>\n      <td>CJ E&amp;M</td>\n      <td>6301.333333</td>\n      <td>54068</td>\n      <td>15.695091</td>\n      <td>1.829178</td>\n    </tr>\n    <tr>\n      <th>1</th>\n      <td>136480</td>\n      <td>하림</td>\n      <td>274.166667</td>\n      <td>3551</td>\n      <td>11.489362</td>\n      <td>0.887074</td>\n    </tr>\n    <tr>\n      <th>2</th>\n      <td>138040</td>\n      <td>메리츠금융지주</td>\n      <td>2122.333333</td>\n      <td>14894</td>\n      <td>6.313806</td>\n      <td>0.899691</td>\n    </tr>\n    <tr>\n      <th>3</th>\n      <td>139480</td>\n      <td>이마트</td>\n      <td>18268.166667</td>\n      <td>295780</td>\n      <td>13.931338</td>\n      <td>0.860437</td>\n    </tr>\n    <tr>\n      <th>4</th>\n      <td>145990</td>\n      <td>삼양사</td>\n      <td>5741.000000</td>\n      <td>108090</td>\n      <td>14.283226</td>\n      <td>0.758627</td>\n    </tr>\n    <tr>\n      <th>5</th>\n      <td>161390</td>\n      <td>한국타이어</td>\n      <td>5648.500000</td>\n      <td>51341</td>\n      <td>7.453306</td>\n      <td>0.820007</td>\n    </tr>\n    <tr>\n      <th>6</th>\n      <td>181710</td>\n      <td>NHN엔터테인먼트</td>\n      <td>2110.166667</td>\n      <td>78434</td>\n      <td>30.755864</td>\n      <td>0.827447</td>\n    </tr>\n    <tr>\n      <th>7</th>\n      <td>185750</td>\n      <td>종근당</td>\n      <td>3990.333333</td>\n      <td>40684</td>\n      <td>25.185866</td>\n      <td>2.470259</td>\n    </tr>\n    <tr>\n      <th>8</th>\n      <td>204210</td>\n      <td>모두투어리츠</td>\n      <td>85.166667</td>\n      <td>5335</td>\n      <td>40.802348</td>\n      <td>0.651359</td>\n    </tr>\n    <tr>\n      <th>9</th>\n      <td>207940</td>\n      <td>삼성바이오로직스</td>\n      <td>4644.166667</td>\n      <td>60099</td>\n      <td>89.790059</td>\n      <td>6.938551</td>\n    </tr>\n  </tbody>\n</table>\n</div>"
     },
     "execution_count": 39,
     "metadata": {},
     "output_type": "execute_result"
    }
   ],
   "source": [
    "df2"
   ]
  },
  {
   "cell_type": "code",
   "execution_count": 47,
   "outputs": [],
   "source": [
    "pd.set_option('display.max_columns', 10)\n",
    "pd.set_option('display.max_colwidth', 20)\n",
    "pd.set_option('display.unicode.east_asian_width', True)"
   ],
   "metadata": {
    "collapsed": false,
    "pycharm": {
     "name": "#%%\n"
    }
   }
  },
  {
   "cell_type": "code",
   "execution_count": 50,
   "outputs": [
    {
     "data": {
      "text/plain": "       id    stock_name          value   price\n0  128940      한미약품   59385.666667  421000\n1  130960        CJ E&M   58540.666667   98900\n2  138250    엔에스쇼핑   14558.666667   13200\n3  139480        이마트  239230.833333  254500\n4  142280  녹십자엠에스     468.833333   10200\n5  145990        삼양사   82750.000000   82000\n6  185750        종근당   40293.666667  100500\n7  192400    쿠쿠홀딩스  179204.666667  177500\n8  199800          툴젠   -2514.333333  115400\n9  204210  모두투어리츠    3093.333333    3475",
      "text/html": "<div>\n<style scoped>\n    .dataframe tbody tr th:only-of-type {\n        vertical-align: middle;\n    }\n\n    .dataframe tbody tr th {\n        vertical-align: top;\n    }\n\n    .dataframe thead th {\n        text-align: right;\n    }\n</style>\n<table border=\"1\" class=\"dataframe\">\n  <thead>\n    <tr style=\"text-align: right;\">\n      <th></th>\n      <th>id</th>\n      <th>stock_name</th>\n      <th>value</th>\n      <th>price</th>\n    </tr>\n  </thead>\n  <tbody>\n    <tr>\n      <th>0</th>\n      <td>128940</td>\n      <td>한미약품</td>\n      <td>59385.666667</td>\n      <td>421000</td>\n    </tr>\n    <tr>\n      <th>1</th>\n      <td>130960</td>\n      <td>CJ E&amp;M</td>\n      <td>58540.666667</td>\n      <td>98900</td>\n    </tr>\n    <tr>\n      <th>2</th>\n      <td>138250</td>\n      <td>엔에스쇼핑</td>\n      <td>14558.666667</td>\n      <td>13200</td>\n    </tr>\n    <tr>\n      <th>3</th>\n      <td>139480</td>\n      <td>이마트</td>\n      <td>239230.833333</td>\n      <td>254500</td>\n    </tr>\n    <tr>\n      <th>4</th>\n      <td>142280</td>\n      <td>녹십자엠에스</td>\n      <td>468.833333</td>\n      <td>10200</td>\n    </tr>\n    <tr>\n      <th>5</th>\n      <td>145990</td>\n      <td>삼양사</td>\n      <td>82750.000000</td>\n      <td>82000</td>\n    </tr>\n    <tr>\n      <th>6</th>\n      <td>185750</td>\n      <td>종근당</td>\n      <td>40293.666667</td>\n      <td>100500</td>\n    </tr>\n    <tr>\n      <th>7</th>\n      <td>192400</td>\n      <td>쿠쿠홀딩스</td>\n      <td>179204.666667</td>\n      <td>177500</td>\n    </tr>\n    <tr>\n      <th>8</th>\n      <td>199800</td>\n      <td>툴젠</td>\n      <td>-2514.333333</td>\n      <td>115400</td>\n    </tr>\n    <tr>\n      <th>9</th>\n      <td>204210</td>\n      <td>모두투어리츠</td>\n      <td>3093.333333</td>\n      <td>3475</td>\n    </tr>\n  </tbody>\n</table>\n</div>"
     },
     "execution_count": 50,
     "metadata": {},
     "output_type": "execute_result"
    }
   ],
   "source": [
    "df1"
   ],
   "metadata": {
    "collapsed": false,
    "pycharm": {
     "name": "#%%\n"
    }
   }
  },
  {
   "cell_type": "code",
   "execution_count": 48,
   "id": "b0ff78ac",
   "metadata": {
    "pycharm": {
     "name": "#%%\n"
    }
   },
   "outputs": [],
   "source": [
    "merge_inner = pd.merge(df1, df2)"
   ]
  },
  {
   "cell_type": "code",
   "execution_count": 41,
   "id": "786037c8",
   "metadata": {
    "pycharm": {
     "name": "#%%\n"
    }
   },
   "outputs": [
    {
     "data": {
      "text/plain": "       id stock_name          value   price    name           eps     bps  \\\n0  130960     CJ E&M   58540.666667   98900  CJ E&M   6301.333333   54068   \n1  139480        이마트  239230.833333  254500     이마트  18268.166667  295780   \n2  145990        삼양사   82750.000000   82000     삼양사   5741.000000  108090   \n3  185750        종근당   40293.666667  100500     종근당   3990.333333   40684   \n4  204210     모두투어리츠    3093.333333    3475  모두투어리츠     85.166667    5335   \n\n         per       pbr  \n0  15.695091  1.829178  \n1  13.931338  0.860437  \n2  14.283226  0.758627  \n3  25.185866  2.470259  \n4  40.802348  0.651359  ",
      "text/html": "<div>\n<style scoped>\n    .dataframe tbody tr th:only-of-type {\n        vertical-align: middle;\n    }\n\n    .dataframe tbody tr th {\n        vertical-align: top;\n    }\n\n    .dataframe thead th {\n        text-align: right;\n    }\n</style>\n<table border=\"1\" class=\"dataframe\">\n  <thead>\n    <tr style=\"text-align: right;\">\n      <th></th>\n      <th>id</th>\n      <th>stock_name</th>\n      <th>value</th>\n      <th>price</th>\n      <th>name</th>\n      <th>eps</th>\n      <th>bps</th>\n      <th>per</th>\n      <th>pbr</th>\n    </tr>\n  </thead>\n  <tbody>\n    <tr>\n      <th>0</th>\n      <td>130960</td>\n      <td>CJ E&amp;M</td>\n      <td>58540.666667</td>\n      <td>98900</td>\n      <td>CJ E&amp;M</td>\n      <td>6301.333333</td>\n      <td>54068</td>\n      <td>15.695091</td>\n      <td>1.829178</td>\n    </tr>\n    <tr>\n      <th>1</th>\n      <td>139480</td>\n      <td>이마트</td>\n      <td>239230.833333</td>\n      <td>254500</td>\n      <td>이마트</td>\n      <td>18268.166667</td>\n      <td>295780</td>\n      <td>13.931338</td>\n      <td>0.860437</td>\n    </tr>\n    <tr>\n      <th>2</th>\n      <td>145990</td>\n      <td>삼양사</td>\n      <td>82750.000000</td>\n      <td>82000</td>\n      <td>삼양사</td>\n      <td>5741.000000</td>\n      <td>108090</td>\n      <td>14.283226</td>\n      <td>0.758627</td>\n    </tr>\n    <tr>\n      <th>3</th>\n      <td>185750</td>\n      <td>종근당</td>\n      <td>40293.666667</td>\n      <td>100500</td>\n      <td>종근당</td>\n      <td>3990.333333</td>\n      <td>40684</td>\n      <td>25.185866</td>\n      <td>2.470259</td>\n    </tr>\n    <tr>\n      <th>4</th>\n      <td>204210</td>\n      <td>모두투어리츠</td>\n      <td>3093.333333</td>\n      <td>3475</td>\n      <td>모두투어리츠</td>\n      <td>85.166667</td>\n      <td>5335</td>\n      <td>40.802348</td>\n      <td>0.651359</td>\n    </tr>\n  </tbody>\n</table>\n</div>"
     },
     "execution_count": 41,
     "metadata": {},
     "output_type": "execute_result"
    }
   ],
   "source": [
    "merge_inner"
   ]
  },
  {
   "cell_type": "code",
   "execution_count": 42,
   "id": "af6cccf1",
   "metadata": {
    "pycharm": {
     "name": "#%%\n"
    }
   },
   "outputs": [],
   "source": [
    "merge_outer = pd.merge(df1, df2, how = 'outer', on = 'id')"
   ]
  },
  {
   "cell_type": "code",
   "execution_count": 43,
   "id": "e5f54ad3",
   "metadata": {
    "pycharm": {
     "name": "#%%\n"
    }
   },
   "outputs": [
    {
     "data": {
      "text/plain": "        id stock_name          value     price       name           eps  \\\n0   128940       한미약품   59385.666667  421000.0        NaN           NaN   \n1   130960     CJ E&M   58540.666667   98900.0     CJ E&M   6301.333333   \n2   138250      엔에스쇼핑   14558.666667   13200.0        NaN           NaN   \n3   139480        이마트  239230.833333  254500.0        이마트  18268.166667   \n4   142280     녹십자엠에스     468.833333   10200.0        NaN           NaN   \n5   145990        삼양사   82750.000000   82000.0        삼양사   5741.000000   \n6   185750        종근당   40293.666667  100500.0        종근당   3990.333333   \n7   192400      쿠쿠홀딩스  179204.666667  177500.0        NaN           NaN   \n8   199800         툴젠   -2514.333333  115400.0        NaN           NaN   \n9   204210     모두투어리츠    3093.333333    3475.0     모두투어리츠     85.166667   \n10  136480        NaN            NaN       NaN         하림    274.166667   \n11  138040        NaN            NaN       NaN    메리츠금융지주   2122.333333   \n12  161390        NaN            NaN       NaN      한국타이어   5648.500000   \n13  181710        NaN            NaN       NaN  NHN엔터테인먼트   2110.166667   \n14  207940        NaN            NaN       NaN   삼성바이오로직스   4644.166667   \n\n         bps        per       pbr  \n0        NaN        NaN       NaN  \n1    54068.0  15.695091  1.829178  \n2        NaN        NaN       NaN  \n3   295780.0  13.931338  0.860437  \n4        NaN        NaN       NaN  \n5   108090.0  14.283226  0.758627  \n6    40684.0  25.185866  2.470259  \n7        NaN        NaN       NaN  \n8        NaN        NaN       NaN  \n9     5335.0  40.802348  0.651359  \n10    3551.0  11.489362  0.887074  \n11   14894.0   6.313806  0.899691  \n12   51341.0   7.453306  0.820007  \n13   78434.0  30.755864  0.827447  \n14   60099.0  89.790059  6.938551  ",
      "text/html": "<div>\n<style scoped>\n    .dataframe tbody tr th:only-of-type {\n        vertical-align: middle;\n    }\n\n    .dataframe tbody tr th {\n        vertical-align: top;\n    }\n\n    .dataframe thead th {\n        text-align: right;\n    }\n</style>\n<table border=\"1\" class=\"dataframe\">\n  <thead>\n    <tr style=\"text-align: right;\">\n      <th></th>\n      <th>id</th>\n      <th>stock_name</th>\n      <th>value</th>\n      <th>price</th>\n      <th>name</th>\n      <th>eps</th>\n      <th>bps</th>\n      <th>per</th>\n      <th>pbr</th>\n    </tr>\n  </thead>\n  <tbody>\n    <tr>\n      <th>0</th>\n      <td>128940</td>\n      <td>한미약품</td>\n      <td>59385.666667</td>\n      <td>421000.0</td>\n      <td>NaN</td>\n      <td>NaN</td>\n      <td>NaN</td>\n      <td>NaN</td>\n      <td>NaN</td>\n    </tr>\n    <tr>\n      <th>1</th>\n      <td>130960</td>\n      <td>CJ E&amp;M</td>\n      <td>58540.666667</td>\n      <td>98900.0</td>\n      <td>CJ E&amp;M</td>\n      <td>6301.333333</td>\n      <td>54068.0</td>\n      <td>15.695091</td>\n      <td>1.829178</td>\n    </tr>\n    <tr>\n      <th>2</th>\n      <td>138250</td>\n      <td>엔에스쇼핑</td>\n      <td>14558.666667</td>\n      <td>13200.0</td>\n      <td>NaN</td>\n      <td>NaN</td>\n      <td>NaN</td>\n      <td>NaN</td>\n      <td>NaN</td>\n    </tr>\n    <tr>\n      <th>3</th>\n      <td>139480</td>\n      <td>이마트</td>\n      <td>239230.833333</td>\n      <td>254500.0</td>\n      <td>이마트</td>\n      <td>18268.166667</td>\n      <td>295780.0</td>\n      <td>13.931338</td>\n      <td>0.860437</td>\n    </tr>\n    <tr>\n      <th>4</th>\n      <td>142280</td>\n      <td>녹십자엠에스</td>\n      <td>468.833333</td>\n      <td>10200.0</td>\n      <td>NaN</td>\n      <td>NaN</td>\n      <td>NaN</td>\n      <td>NaN</td>\n      <td>NaN</td>\n    </tr>\n    <tr>\n      <th>5</th>\n      <td>145990</td>\n      <td>삼양사</td>\n      <td>82750.000000</td>\n      <td>82000.0</td>\n      <td>삼양사</td>\n      <td>5741.000000</td>\n      <td>108090.0</td>\n      <td>14.283226</td>\n      <td>0.758627</td>\n    </tr>\n    <tr>\n      <th>6</th>\n      <td>185750</td>\n      <td>종근당</td>\n      <td>40293.666667</td>\n      <td>100500.0</td>\n      <td>종근당</td>\n      <td>3990.333333</td>\n      <td>40684.0</td>\n      <td>25.185866</td>\n      <td>2.470259</td>\n    </tr>\n    <tr>\n      <th>7</th>\n      <td>192400</td>\n      <td>쿠쿠홀딩스</td>\n      <td>179204.666667</td>\n      <td>177500.0</td>\n      <td>NaN</td>\n      <td>NaN</td>\n      <td>NaN</td>\n      <td>NaN</td>\n      <td>NaN</td>\n    </tr>\n    <tr>\n      <th>8</th>\n      <td>199800</td>\n      <td>툴젠</td>\n      <td>-2514.333333</td>\n      <td>115400.0</td>\n      <td>NaN</td>\n      <td>NaN</td>\n      <td>NaN</td>\n      <td>NaN</td>\n      <td>NaN</td>\n    </tr>\n    <tr>\n      <th>9</th>\n      <td>204210</td>\n      <td>모두투어리츠</td>\n      <td>3093.333333</td>\n      <td>3475.0</td>\n      <td>모두투어리츠</td>\n      <td>85.166667</td>\n      <td>5335.0</td>\n      <td>40.802348</td>\n      <td>0.651359</td>\n    </tr>\n    <tr>\n      <th>10</th>\n      <td>136480</td>\n      <td>NaN</td>\n      <td>NaN</td>\n      <td>NaN</td>\n      <td>하림</td>\n      <td>274.166667</td>\n      <td>3551.0</td>\n      <td>11.489362</td>\n      <td>0.887074</td>\n    </tr>\n    <tr>\n      <th>11</th>\n      <td>138040</td>\n      <td>NaN</td>\n      <td>NaN</td>\n      <td>NaN</td>\n      <td>메리츠금융지주</td>\n      <td>2122.333333</td>\n      <td>14894.0</td>\n      <td>6.313806</td>\n      <td>0.899691</td>\n    </tr>\n    <tr>\n      <th>12</th>\n      <td>161390</td>\n      <td>NaN</td>\n      <td>NaN</td>\n      <td>NaN</td>\n      <td>한국타이어</td>\n      <td>5648.500000</td>\n      <td>51341.0</td>\n      <td>7.453306</td>\n      <td>0.820007</td>\n    </tr>\n    <tr>\n      <th>13</th>\n      <td>181710</td>\n      <td>NaN</td>\n      <td>NaN</td>\n      <td>NaN</td>\n      <td>NHN엔터테인먼트</td>\n      <td>2110.166667</td>\n      <td>78434.0</td>\n      <td>30.755864</td>\n      <td>0.827447</td>\n    </tr>\n    <tr>\n      <th>14</th>\n      <td>207940</td>\n      <td>NaN</td>\n      <td>NaN</td>\n      <td>NaN</td>\n      <td>삼성바이오로직스</td>\n      <td>4644.166667</td>\n      <td>60099.0</td>\n      <td>89.790059</td>\n      <td>6.938551</td>\n    </tr>\n  </tbody>\n</table>\n</div>"
     },
     "execution_count": 43,
     "metadata": {},
     "output_type": "execute_result"
    }
   ],
   "source": [
    "merge_outer"
   ]
  },
  {
   "cell_type": "code",
   "execution_count": 51,
   "id": "f0c5d876",
   "metadata": {
    "pycharm": {
     "name": "#%%\n"
    }
   },
   "outputs": [],
   "source": [
    "merge_left = pd.merge(df1, df2, how='left', left_on='stock_name', right_on='name')"
   ]
  },
  {
   "cell_type": "code",
   "execution_count": 52,
   "outputs": [
    {
     "data": {
      "text/plain": "     id_x    stock_name          value   price      id_y          name  \\\n0  128940      한미약품   59385.666667  421000       NaN           NaN   \n1  130960        CJ E&M   58540.666667   98900  130960.0        CJ E&M   \n2  138250    엔에스쇼핑   14558.666667   13200       NaN           NaN   \n3  139480        이마트  239230.833333  254500  139480.0        이마트   \n4  142280  녹십자엠에스     468.833333   10200       NaN           NaN   \n5  145990        삼양사   82750.000000   82000  145990.0        삼양사   \n6  185750        종근당   40293.666667  100500  185750.0        종근당   \n7  192400    쿠쿠홀딩스  179204.666667  177500       NaN           NaN   \n8  199800          툴젠   -2514.333333  115400       NaN           NaN   \n9  204210  모두투어리츠    3093.333333    3475  204210.0  모두투어리츠   \n\n            eps       bps        per       pbr  \n0           NaN       NaN        NaN       NaN  \n1   6301.333333   54068.0  15.695091  1.829178  \n2           NaN       NaN        NaN       NaN  \n3  18268.166667  295780.0  13.931338  0.860437  \n4           NaN       NaN        NaN       NaN  \n5   5741.000000  108090.0  14.283226  0.758627  \n6   3990.333333   40684.0  25.185866  2.470259  \n7           NaN       NaN        NaN       NaN  \n8           NaN       NaN        NaN       NaN  \n9     85.166667    5335.0  40.802348  0.651359  ",
      "text/html": "<div>\n<style scoped>\n    .dataframe tbody tr th:only-of-type {\n        vertical-align: middle;\n    }\n\n    .dataframe tbody tr th {\n        vertical-align: top;\n    }\n\n    .dataframe thead th {\n        text-align: right;\n    }\n</style>\n<table border=\"1\" class=\"dataframe\">\n  <thead>\n    <tr style=\"text-align: right;\">\n      <th></th>\n      <th>id_x</th>\n      <th>stock_name</th>\n      <th>value</th>\n      <th>price</th>\n      <th>id_y</th>\n      <th>name</th>\n      <th>eps</th>\n      <th>bps</th>\n      <th>per</th>\n      <th>pbr</th>\n    </tr>\n  </thead>\n  <tbody>\n    <tr>\n      <th>0</th>\n      <td>128940</td>\n      <td>한미약품</td>\n      <td>59385.666667</td>\n      <td>421000</td>\n      <td>NaN</td>\n      <td>NaN</td>\n      <td>NaN</td>\n      <td>NaN</td>\n      <td>NaN</td>\n      <td>NaN</td>\n    </tr>\n    <tr>\n      <th>1</th>\n      <td>130960</td>\n      <td>CJ E&amp;M</td>\n      <td>58540.666667</td>\n      <td>98900</td>\n      <td>130960.0</td>\n      <td>CJ E&amp;M</td>\n      <td>6301.333333</td>\n      <td>54068.0</td>\n      <td>15.695091</td>\n      <td>1.829178</td>\n    </tr>\n    <tr>\n      <th>2</th>\n      <td>138250</td>\n      <td>엔에스쇼핑</td>\n      <td>14558.666667</td>\n      <td>13200</td>\n      <td>NaN</td>\n      <td>NaN</td>\n      <td>NaN</td>\n      <td>NaN</td>\n      <td>NaN</td>\n      <td>NaN</td>\n    </tr>\n    <tr>\n      <th>3</th>\n      <td>139480</td>\n      <td>이마트</td>\n      <td>239230.833333</td>\n      <td>254500</td>\n      <td>139480.0</td>\n      <td>이마트</td>\n      <td>18268.166667</td>\n      <td>295780.0</td>\n      <td>13.931338</td>\n      <td>0.860437</td>\n    </tr>\n    <tr>\n      <th>4</th>\n      <td>142280</td>\n      <td>녹십자엠에스</td>\n      <td>468.833333</td>\n      <td>10200</td>\n      <td>NaN</td>\n      <td>NaN</td>\n      <td>NaN</td>\n      <td>NaN</td>\n      <td>NaN</td>\n      <td>NaN</td>\n    </tr>\n    <tr>\n      <th>5</th>\n      <td>145990</td>\n      <td>삼양사</td>\n      <td>82750.000000</td>\n      <td>82000</td>\n      <td>145990.0</td>\n      <td>삼양사</td>\n      <td>5741.000000</td>\n      <td>108090.0</td>\n      <td>14.283226</td>\n      <td>0.758627</td>\n    </tr>\n    <tr>\n      <th>6</th>\n      <td>185750</td>\n      <td>종근당</td>\n      <td>40293.666667</td>\n      <td>100500</td>\n      <td>185750.0</td>\n      <td>종근당</td>\n      <td>3990.333333</td>\n      <td>40684.0</td>\n      <td>25.185866</td>\n      <td>2.470259</td>\n    </tr>\n    <tr>\n      <th>7</th>\n      <td>192400</td>\n      <td>쿠쿠홀딩스</td>\n      <td>179204.666667</td>\n      <td>177500</td>\n      <td>NaN</td>\n      <td>NaN</td>\n      <td>NaN</td>\n      <td>NaN</td>\n      <td>NaN</td>\n      <td>NaN</td>\n    </tr>\n    <tr>\n      <th>8</th>\n      <td>199800</td>\n      <td>툴젠</td>\n      <td>-2514.333333</td>\n      <td>115400</td>\n      <td>NaN</td>\n      <td>NaN</td>\n      <td>NaN</td>\n      <td>NaN</td>\n      <td>NaN</td>\n      <td>NaN</td>\n    </tr>\n    <tr>\n      <th>9</th>\n      <td>204210</td>\n      <td>모두투어리츠</td>\n      <td>3093.333333</td>\n      <td>3475</td>\n      <td>204210.0</td>\n      <td>모두투어리츠</td>\n      <td>85.166667</td>\n      <td>5335.0</td>\n      <td>40.802348</td>\n      <td>0.651359</td>\n    </tr>\n  </tbody>\n</table>\n</div>"
     },
     "execution_count": 52,
     "metadata": {},
     "output_type": "execute_result"
    }
   ],
   "source": [
    "merge_left"
   ],
   "metadata": {
    "collapsed": false,
    "pycharm": {
     "name": "#%%\n"
    }
   }
  },
  {
   "cell_type": "code",
   "execution_count": 53,
   "outputs": [],
   "source": [
    "merge_right = pd.merge(df1, df2, how='right', left_on='stock_name', right_on='name')"
   ],
   "metadata": {
    "collapsed": false,
    "pycharm": {
     "name": "#%%\n"
    }
   }
  },
  {
   "cell_type": "code",
   "execution_count": 54,
   "outputs": [
    {
     "data": {
      "text/plain": "       id_x    stock_name          value     price    id_y              name  \\\n0  130960.0        CJ E&M   58540.666667   98900.0  130960            CJ E&M   \n1       NaN           NaN            NaN       NaN  136480              하림   \n2       NaN           NaN            NaN       NaN  138040    메리츠금융지주   \n3  139480.0        이마트  239230.833333  254500.0  139480            이마트   \n4  145990.0        삼양사   82750.000000   82000.0  145990            삼양사   \n5       NaN           NaN            NaN       NaN  161390        한국타이어   \n6       NaN           NaN            NaN       NaN  181710   NHN엔터테인먼트   \n7  185750.0        종근당   40293.666667  100500.0  185750            종근당   \n8  204210.0  모두투어리츠    3093.333333    3475.0  204210      모두투어리츠   \n9       NaN           NaN            NaN       NaN  207940  삼성바이오로직스   \n\n            eps     bps        per       pbr  \n0   6301.333333   54068  15.695091  1.829178  \n1    274.166667    3551  11.489362  0.887074  \n2   2122.333333   14894   6.313806  0.899691  \n3  18268.166667  295780  13.931338  0.860437  \n4   5741.000000  108090  14.283226  0.758627  \n5   5648.500000   51341   7.453306  0.820007  \n6   2110.166667   78434  30.755864  0.827447  \n7   3990.333333   40684  25.185866  2.470259  \n8     85.166667    5335  40.802348  0.651359  \n9   4644.166667   60099  89.790059  6.938551  ",
      "text/html": "<div>\n<style scoped>\n    .dataframe tbody tr th:only-of-type {\n        vertical-align: middle;\n    }\n\n    .dataframe tbody tr th {\n        vertical-align: top;\n    }\n\n    .dataframe thead th {\n        text-align: right;\n    }\n</style>\n<table border=\"1\" class=\"dataframe\">\n  <thead>\n    <tr style=\"text-align: right;\">\n      <th></th>\n      <th>id_x</th>\n      <th>stock_name</th>\n      <th>value</th>\n      <th>price</th>\n      <th>id_y</th>\n      <th>name</th>\n      <th>eps</th>\n      <th>bps</th>\n      <th>per</th>\n      <th>pbr</th>\n    </tr>\n  </thead>\n  <tbody>\n    <tr>\n      <th>0</th>\n      <td>130960.0</td>\n      <td>CJ E&amp;M</td>\n      <td>58540.666667</td>\n      <td>98900.0</td>\n      <td>130960</td>\n      <td>CJ E&amp;M</td>\n      <td>6301.333333</td>\n      <td>54068</td>\n      <td>15.695091</td>\n      <td>1.829178</td>\n    </tr>\n    <tr>\n      <th>1</th>\n      <td>NaN</td>\n      <td>NaN</td>\n      <td>NaN</td>\n      <td>NaN</td>\n      <td>136480</td>\n      <td>하림</td>\n      <td>274.166667</td>\n      <td>3551</td>\n      <td>11.489362</td>\n      <td>0.887074</td>\n    </tr>\n    <tr>\n      <th>2</th>\n      <td>NaN</td>\n      <td>NaN</td>\n      <td>NaN</td>\n      <td>NaN</td>\n      <td>138040</td>\n      <td>메리츠금융지주</td>\n      <td>2122.333333</td>\n      <td>14894</td>\n      <td>6.313806</td>\n      <td>0.899691</td>\n    </tr>\n    <tr>\n      <th>3</th>\n      <td>139480.0</td>\n      <td>이마트</td>\n      <td>239230.833333</td>\n      <td>254500.0</td>\n      <td>139480</td>\n      <td>이마트</td>\n      <td>18268.166667</td>\n      <td>295780</td>\n      <td>13.931338</td>\n      <td>0.860437</td>\n    </tr>\n    <tr>\n      <th>4</th>\n      <td>145990.0</td>\n      <td>삼양사</td>\n      <td>82750.000000</td>\n      <td>82000.0</td>\n      <td>145990</td>\n      <td>삼양사</td>\n      <td>5741.000000</td>\n      <td>108090</td>\n      <td>14.283226</td>\n      <td>0.758627</td>\n    </tr>\n    <tr>\n      <th>5</th>\n      <td>NaN</td>\n      <td>NaN</td>\n      <td>NaN</td>\n      <td>NaN</td>\n      <td>161390</td>\n      <td>한국타이어</td>\n      <td>5648.500000</td>\n      <td>51341</td>\n      <td>7.453306</td>\n      <td>0.820007</td>\n    </tr>\n    <tr>\n      <th>6</th>\n      <td>NaN</td>\n      <td>NaN</td>\n      <td>NaN</td>\n      <td>NaN</td>\n      <td>181710</td>\n      <td>NHN엔터테인먼트</td>\n      <td>2110.166667</td>\n      <td>78434</td>\n      <td>30.755864</td>\n      <td>0.827447</td>\n    </tr>\n    <tr>\n      <th>7</th>\n      <td>185750.0</td>\n      <td>종근당</td>\n      <td>40293.666667</td>\n      <td>100500.0</td>\n      <td>185750</td>\n      <td>종근당</td>\n      <td>3990.333333</td>\n      <td>40684</td>\n      <td>25.185866</td>\n      <td>2.470259</td>\n    </tr>\n    <tr>\n      <th>8</th>\n      <td>204210.0</td>\n      <td>모두투어리츠</td>\n      <td>3093.333333</td>\n      <td>3475.0</td>\n      <td>204210</td>\n      <td>모두투어리츠</td>\n      <td>85.166667</td>\n      <td>5335</td>\n      <td>40.802348</td>\n      <td>0.651359</td>\n    </tr>\n    <tr>\n      <th>9</th>\n      <td>NaN</td>\n      <td>NaN</td>\n      <td>NaN</td>\n      <td>NaN</td>\n      <td>207940</td>\n      <td>삼성바이오로직스</td>\n      <td>4644.166667</td>\n      <td>60099</td>\n      <td>89.790059</td>\n      <td>6.938551</td>\n    </tr>\n  </tbody>\n</table>\n</div>"
     },
     "execution_count": 54,
     "metadata": {},
     "output_type": "execute_result"
    }
   ],
   "source": [
    "merge_right"
   ],
   "metadata": {
    "collapsed": false,
    "pycharm": {
     "name": "#%%\n"
    }
   }
  },
  {
   "cell_type": "code",
   "execution_count": 59,
   "outputs": [],
   "source": [
    "merge_inner = pd.merge(df1, df2, how='inner')"
   ],
   "metadata": {
    "collapsed": false,
    "pycharm": {
     "name": "#%%\n"
    }
   }
  },
  {
   "cell_type": "code",
   "execution_count": 61,
   "outputs": [],
   "source": [
    "result = (merge_inner.price < 50000)\n",
    "merge_inner_under5 = merge_inner.loc[result, :]"
   ],
   "metadata": {
    "collapsed": false,
    "pycharm": {
     "name": "#%%\n"
    }
   }
  },
  {
   "cell_type": "code",
   "execution_count": 62,
   "outputs": [
    {
     "data": {
      "text/plain": "       id    stock_name        value  price          name        eps   bps  \\\n4  204210  모두투어리츠  3093.333333   3475  모두투어리츠  85.166667  5335   \n\n         per       pbr  \n4  40.802348  0.651359  ",
      "text/html": "<div>\n<style scoped>\n    .dataframe tbody tr th:only-of-type {\n        vertical-align: middle;\n    }\n\n    .dataframe tbody tr th {\n        vertical-align: top;\n    }\n\n    .dataframe thead th {\n        text-align: right;\n    }\n</style>\n<table border=\"1\" class=\"dataframe\">\n  <thead>\n    <tr style=\"text-align: right;\">\n      <th></th>\n      <th>id</th>\n      <th>stock_name</th>\n      <th>value</th>\n      <th>price</th>\n      <th>name</th>\n      <th>eps</th>\n      <th>bps</th>\n      <th>per</th>\n      <th>pbr</th>\n    </tr>\n  </thead>\n  <tbody>\n    <tr>\n      <th>4</th>\n      <td>204210</td>\n      <td>모두투어리츠</td>\n      <td>3093.333333</td>\n      <td>3475</td>\n      <td>모두투어리츠</td>\n      <td>85.166667</td>\n      <td>5335</td>\n      <td>40.802348</td>\n      <td>0.651359</td>\n    </tr>\n  </tbody>\n</table>\n</div>"
     },
     "execution_count": 62,
     "metadata": {},
     "output_type": "execute_result"
    }
   ],
   "source": [
    "merge_inner_under5"
   ],
   "metadata": {
    "collapsed": false,
    "pycharm": {
     "name": "#%%\n"
    }
   }
  },
  {
   "cell_type": "code",
   "execution_count": 63,
   "outputs": [
    {
     "data": {
      "text/plain": "4    85.166667\nName: eps, dtype: float64"
     },
     "execution_count": 63,
     "metadata": {},
     "output_type": "execute_result"
    }
   ],
   "source": [
    "merge_inner_under5.eps"
   ],
   "metadata": {
    "collapsed": false,
    "pycharm": {
     "name": "#%%\n"
    }
   }
  },
  {
   "cell_type": "code",
   "execution_count": 64,
   "outputs": [
    {
     "data": {
      "text/plain": "4    5335\nName: bps, dtype: int64"
     },
     "execution_count": 64,
     "metadata": {},
     "output_type": "execute_result"
    }
   ],
   "source": [
    "merge_inner_under5.bps"
   ],
   "metadata": {
    "collapsed": false,
    "pycharm": {
     "name": "#%%\n"
    }
   }
  },
  {
   "cell_type": "code",
   "execution_count": 65,
   "outputs": [
    {
     "data": {
      "text/plain": "4    40.802348\nName: per, dtype: float64"
     },
     "execution_count": 65,
     "metadata": {},
     "output_type": "execute_result"
    }
   ],
   "source": [
    "merge_inner_under5.per"
   ],
   "metadata": {
    "collapsed": false,
    "pycharm": {
     "name": "#%%\n"
    }
   }
  },
  {
   "cell_type": "code",
   "execution_count": 66,
   "outputs": [
    {
     "data": {
      "text/plain": "4    0.651359\nName: pbr, dtype: float64"
     },
     "execution_count": 66,
     "metadata": {},
     "output_type": "execute_result"
    }
   ],
   "source": [
    "merge_inner_under5.pbr"
   ],
   "metadata": {
    "collapsed": false,
    "pycharm": {
     "name": "#%%\n"
    }
   }
  },
  {
   "cell_type": "code",
   "execution_count": null,
   "outputs": [],
   "source": [],
   "metadata": {
    "collapsed": false,
    "pycharm": {
     "name": "#%%\n"
    }
   }
  }
 ],
 "metadata": {
  "kernelspec": {
   "display_name": "Python 3.9.12 ('base')",
   "language": "python",
   "name": "python3"
  },
  "language_info": {
   "codemirror_mode": {
    "name": "ipython",
    "version": 3
   },
   "file_extension": ".py",
   "mimetype": "text/x-python",
   "name": "python",
   "nbconvert_exporter": "python",
   "pygments_lexer": "ipython3",
   "version": "3.9.12"
  },
  "vscode": {
   "interpreter": {
    "hash": "40d3a090f54c6569ab1632332b64b2c03c39dcf918b08424e98f38b5ae0af88f"
   }
  }
 },
 "nbformat": 4,
 "nbformat_minor": 5
}