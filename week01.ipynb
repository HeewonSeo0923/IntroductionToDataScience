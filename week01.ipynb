{
 "cells": [
  {
   "cell_type": "code",
   "execution_count": 1,
   "id": "62ebd329",
   "metadata": {},
   "outputs": [],
   "source": [
    "import numpy as np          # 선형대수를 처리하는 넘파이 모듈 (별칭으로 np 사용)"
   ]
  },
  {
   "cell_type": "code",
   "execution_count": 2,
   "id": "019828cd",
   "metadata": {},
   "outputs": [
    {
     "data": {
      "text/plain": [
       "'1.21.5'"
      ]
     },
     "execution_count": 2,
     "metadata": {},
     "output_type": "execute_result"
    }
   ],
   "source": [
    "np.__version__              # 모듈 버전 확인"
   ]
  },
  {
   "cell_type": "code",
   "execution_count": 3,
   "id": "89cb5a50",
   "metadata": {},
   "outputs": [],
   "source": [
    "import pandas as pd        # 판다스 모듈 사용해 데이터프레임 처리"
   ]
  },
  {
   "cell_type": "code",
   "execution_count": 4,
   "id": "ed263201",
   "metadata": {},
   "outputs": [
    {
     "data": {
      "text/plain": [
       "'1.4.2'"
      ]
     },
     "execution_count": 4,
     "metadata": {},
     "output_type": "execute_result"
    }
   ],
   "source": [
    "pd.__version__             # 모듈 버전 확인"
   ]
  },
  {
   "cell_type": "code",
   "execution_count": 5,
   "id": "c0cf2f02",
   "metadata": {},
   "outputs": [],
   "source": [
    "import matplotlib as mpl   # 기본 시각화 모듈 사용 (별칭 mpl)"
   ]
  },
  {
   "cell_type": "code",
   "execution_count": 6,
   "id": "c14104c9",
   "metadata": {},
   "outputs": [
    {
     "data": {
      "text/plain": [
       "'3.5.1'"
      ]
     },
     "execution_count": 6,
     "metadata": {},
     "output_type": "execute_result"
    }
   ],
   "source": [
    "mpl.__version__            # 모듈 버전 확인"
   ]
  },
  {
   "cell_type": "code",
   "execution_count": 7,
   "id": "e3f77a83",
   "metadata": {},
   "outputs": [],
   "source": [
    "import seaborn as sns      # 데이터 프레임을 바로 시각화할 수 있는 모듈"
   ]
  },
  {
   "cell_type": "code",
   "execution_count": 8,
   "id": "7b1b4306",
   "metadata": {},
   "outputs": [
    {
     "data": {
      "text/plain": [
       "'0.11.2'"
      ]
     },
     "execution_count": 8,
     "metadata": {},
     "output_type": "execute_result"
    }
   ],
   "source": [
    "sns.__version__            # 모듈 버전 확인"
   ]
  },
  {
   "cell_type": "code",
   "execution_count": 9,
   "id": "69c75a90",
   "metadata": {},
   "outputs": [
    {
     "name": "stdout",
     "output_type": "stream",
     "text": [
      "Requirement already satisfied: pyecharts in /Users/seohuiwon/opt/anaconda3/lib/python3.9/site-packages (1.9.1)\n",
      "Requirement already satisfied: prettytable in /Users/seohuiwon/opt/anaconda3/lib/python3.9/site-packages (from pyecharts) (3.4.1)\n",
      "Requirement already satisfied: simplejson in /Users/seohuiwon/opt/anaconda3/lib/python3.9/site-packages (from pyecharts) (3.17.6)\n",
      "Requirement already satisfied: jinja2 in /Users/seohuiwon/opt/anaconda3/lib/python3.9/site-packages (from pyecharts) (2.11.3)\n",
      "Requirement already satisfied: MarkupSafe>=0.23 in /Users/seohuiwon/opt/anaconda3/lib/python3.9/site-packages (from jinja2->pyecharts) (2.0.1)\n",
      "Requirement already satisfied: wcwidth in /Users/seohuiwon/opt/anaconda3/lib/python3.9/site-packages (from prettytable->pyecharts) (0.2.5)\n"
     ]
    }
   ],
   "source": [
    "!pip install pyecharts"
   ]
  },
  {
   "cell_type": "code",
   "execution_count": 10,
   "id": "9dec55b7",
   "metadata": {},
   "outputs": [],
   "source": [
    "import pyecharts as pyc      # 동적인 시각화 모듈 "
   ]
  },
  {
   "cell_type": "code",
   "execution_count": 11,
   "id": "62ff23cc",
   "metadata": {},
   "outputs": [
    {
     "data": {
      "text/plain": [
       "'1.9.1'"
      ]
     },
     "execution_count": 11,
     "metadata": {},
     "output_type": "execute_result"
    }
   ],
   "source": [
    "pyc.__version__              # 모듈 버전 확인"
   ]
  },
  {
   "cell_type": "code",
   "execution_count": 12,
   "id": "a2b70f6e",
   "metadata": {},
   "outputs": [],
   "source": [
    "import sklearn as sk         # 머신러닝 지원 모듈"
   ]
  },
  {
   "cell_type": "code",
   "execution_count": 13,
   "id": "a690008b",
   "metadata": {},
   "outputs": [
    {
     "data": {
      "text/plain": [
       "'1.0.2'"
      ]
     },
     "execution_count": 13,
     "metadata": {},
     "output_type": "execute_result"
    }
   ],
   "source": [
    "sk.__version__               # 버전 확인"
   ]
  },
  {
   "cell_type": "code",
   "execution_count": 14,
   "id": "e1da92d1",
   "metadata": {},
   "outputs": [],
   "source": [
    "import random"
   ]
  },
  {
   "cell_type": "code",
   "execution_count": null,
   "id": "1199ce8c",
   "metadata": {},
   "outputs": [],
   "source": []
  }
 ],
 "metadata": {
  "kernelspec": {
   "display_name": "Python 3.9.12 ('base')",
   "language": "python",
   "name": "python3"
  },
  "language_info": {
   "codemirror_mode": {
    "name": "ipython",
    "version": 3
   },
   "file_extension": ".py",
   "mimetype": "text/x-python",
   "name": "python",
   "nbconvert_exporter": "python",
   "pygments_lexer": "ipython3",
   "version": "3.9.12"
  },
  "vscode": {
   "interpreter": {
    "hash": "435845e718dc374aa0c7b7486c1d0c365353b482094aacc517f2917c2db9079c"
   }
  }
 },
 "nbformat": 4,
 "nbformat_minor": 5
}
