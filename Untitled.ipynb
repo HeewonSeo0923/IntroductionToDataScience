{
 "cells": [
  {
   "cell_type": "code",
   "execution_count": 14,
   "id": "b507cbb3",
   "metadata": {},
   "outputs": [
    {
     "name": "stdout",
     "output_type": "stream",
     "text": [
      "티켓 가격은 얼마인가요? 1000\n",
      "학년은?(1/2/3/4) 1\n",
      "논사소 수업을 수강하고 있나요?(y/n) y\n",
      "티켓가격은 1000 입니다\n",
      "1 학년입니다 \n",
      "논사소 y\n"
     ]
    }
   ],
   "source": [
    "ticket_price = int(input('티켓 가격은 얼마인가요? '))\n",
    "if ticket_price < 1000:\n",
    "    print(\"티켓 값은 1000원 이상이여야합니다.\")\n",
    "    ticket_price = int(input('티켓 가격은 얼마인가요? '))\n",
    "    \n",
    "grade = int(input('학년은?(1/2/3/4) '))\n",
    "Logic_sw = input('논사소 수업을 수강하고 있나요?(y/n) ')\n",
    "\n",
    "print(\"티켓가격은 %d 입니다\" %ticket_price)\n",
    "print(\"%d 학년입니다 \" %grade)\n",
    "print(\"논사소 %s\" %Logic_sw)"
   ]
  },
  {
   "cell_type": "code",
   "execution_count": 15,
   "id": "dc571c5e",
   "metadata": {},
   "outputs": [
    {
     "name": "stdout",
     "output_type": "stream",
     "text": [
      "선택한 1학년의 티켓 가격은 300원 입니다\n"
     ]
    }
   ],
   "source": [
    "# 2번\n",
    "\n",
    "discount_rate = 0\n",
    "\n",
    "if Logic_sw in ('y' or 'Y'):\n",
    "    discount_rate = 0.3\n",
    "else :\n",
    "    discount_rate = 0 \n",
    "\n",
    "if grade == 1 :\n",
    "    discount_rate += 0.4\n",
    "elif grade == 2 :\n",
    "    discount_rate += 0.3\n",
    "elif grade == 3 :\n",
    "    discount_rate += 0.2\n",
    "else :\n",
    "    discount_rate += 0.1\n",
    "\n",
    "\n",
    "\n",
    "# --------------------------------------------------------------\n",
    "### 밑의 코드를 수정하지 마세요.\n",
    "### 밑의 코드가 출력이게 되도록 변수 선언을 하시오\n",
    "### ticket_price: 할인 전 원래 티켓 가격\n",
    "### discount_rate: 학년과 논사소 수강여부를 적용한 할인율\n",
    "price = ticket_price - ticket_price * discount_rate\n",
    "print(f'선택한 {grade}학년의 티켓 가격은 {int(price):,}원 입니다')"
   ]
  },
  {
   "cell_type": "code",
   "execution_count": 16,
   "id": "48c3dd9e",
   "metadata": {},
   "outputs": [
    {
     "name": "stdout",
     "output_type": "stream",
     "text": [
      "[1000, 1, 'y']\n",
      "선택한 1학년의 티켓 가격은 300원 입니다\n"
     ]
    }
   ],
   "source": [
    "# 3번\n",
    "\n",
    "data = []\n",
    "discount_rate = 0\n",
    "\n",
    "data.append(ticket_price)\n",
    "data.append(grade)\n",
    "data.append(Logic_sw)\n",
    "\n",
    "print(data)\n",
    "\n",
    "if data[2] in ('y', 'Y'):\n",
    "    discount_rate += 0.3\n",
    "    discount_rate = discount_rate + 0.1 * (5 - data[1])\n",
    "else :\n",
    "    discount_rate = discount_rate + 0.1 * (5 - data[1])\n",
    "        \n",
    "### 밑의 코드를 수정하지 마세요.\n",
    "### 밑의 코드가 출력이게 되도록 변수 선언을 하시오\n",
    "### ticket_price: 할인 전 원래 티켓 가격\n",
    "### discount_rate: 학년과 논사소 수강여부를 적용한 할인율\n",
    "price = ticket_price - ticket_price * discount_rate\n",
    "print(f'선택한 {grade}학년의 티켓 가격은 {int(price):,}원 입니다')"
   ]
  },
  {
   "cell_type": "code",
   "execution_count": null,
   "id": "96d9292d",
   "metadata": {},
   "outputs": [],
   "source": []
  }
 ],
 "metadata": {
  "kernelspec": {
   "display_name": "Python 3 (ipykernel)",
   "language": "python",
   "name": "python3"
  },
  "language_info": {
   "codemirror_mode": {
    "name": "ipython",
    "version": 3
   },
   "file_extension": ".py",
   "mimetype": "text/x-python",
   "name": "python",
   "nbconvert_exporter": "python",
   "pygments_lexer": "ipython3",
   "version": "3.9.12"
  }
 },
 "nbformat": 4,
 "nbformat_minor": 5
}
