{
 "cells": [
  {
   "cell_type": "code",
   "execution_count": 1,
   "metadata": {
    "collapsed": true,
    "pycharm": {
     "name": "#%%\n"
    }
   },
   "outputs": [
    {
     "name": "stdout",
     "output_type": "stream",
     "text": [
      "실습 1 : array_a =  [0 1 2 3 4 5 6 7 8 9]\n"
     ]
    }
   ],
   "source": [
    "import numpy as np\n",
    "\n",
    "array_a = np.array([0, 1, 2, 3, 4, 5, 6, 7, 8, 9])\n",
    "print('실습 1 : array_a = ', array_a)"
   ]
  },
  {
   "cell_type": "code",
   "execution_count": 2,
   "outputs": [
    {
     "name": "stdout",
     "output_type": "stream",
     "text": [
      "실습 2 : array_b =  [0 1 2 3 4 5 6 7 8 9]\n"
     ]
    }
   ],
   "source": [
    "array_b = np.array(range(10))\n",
    "print('실습 2 : array_b = ', array_b)"
   ],
   "metadata": {
    "collapsed": false,
    "pycharm": {
     "name": "#%%\n"
    }
   }
  },
  {
   "cell_type": "code",
   "execution_count": 3,
   "outputs": [
    {
     "name": "stdout",
     "output_type": "stream",
     "text": [
      "실습 3 : array_c =  [0 2 4 6 8]\n"
     ]
    }
   ],
   "source": [
    "array_c = np.array(range(0, 10, 2))\n",
    "print('실습 3 : array_c = ', array_c)"
   ],
   "metadata": {
    "collapsed": false,
    "pycharm": {
     "name": "#%%\n"
    }
   }
  },
  {
   "cell_type": "code",
   "execution_count": 4,
   "outputs": [
    {
     "name": "stdout",
     "output_type": "stream",
     "text": [
      "실습 4 : \n",
      "array_c의 shape :  (5,)\n",
      "array_c의 ndim :  1\n",
      "array_c의 dtype :  int64\n",
      "array_c의 size :  5\n"
     ]
    }
   ],
   "source": [
    "print('실습 4 : ')\n",
    "print('array_c의 shape : ', array_c.shape)\n",
    "print('array_c의 ndim : ', array_c.ndim)\n",
    "print('array_c의 dtype : ', array_c.dtype)\n",
    "print('array_c의 size : ', array_c.size)"
   ],
   "metadata": {
    "collapsed": false,
    "pycharm": {
     "name": "#%%\n"
    }
   }
  },
  {
   "cell_type": "code",
   "execution_count": 6,
   "outputs": [
    {
     "name": "stdout",
     "output_type": "stream",
     "text": [
      "1차원 배열 sort()정렬 전 :  [ 1.62434536 -0.61175641 -0.52817175 -1.07296862  0.86540763]\n"
     ]
    }
   ],
   "source": [
    "# 난수를 생성기의 시드값에 따라 정해진 난수를 생성한다\n",
    "np.random.seed(1)\n",
    "\n",
    "# 표편 = 1, 평균값 0인 정규분포에서 랜덤으로 숫자를 결정한다\n",
    "# 1차원\n",
    "\n",
    "vector = np.random.randn(5)\n",
    "\n",
    "print('1차원 배열 sort()정렬 전 : ', vector)"
   ],
   "metadata": {
    "collapsed": false,
    "pycharm": {
     "name": "#%%\n"
    }
   }
  },
  {
   "cell_type": "code",
   "execution_count": null,
   "outputs": [],
   "source": [],
   "metadata": {
    "collapsed": false,
    "pycharm": {
     "name": "#%%\n"
    }
   }
  }
 ],
 "metadata": {
  "kernelspec": {
   "display_name": "Python 3",
   "language": "python",
   "name": "python3"
  },
  "language_info": {
   "codemirror_mode": {
    "name": "ipython",
    "version": 2
   },
   "file_extension": ".py",
   "mimetype": "text/x-python",
   "name": "python",
   "nbconvert_exporter": "python",
   "pygments_lexer": "ipython2",
   "version": "2.7.6"
  }
 },
 "nbformat": 4,
 "nbformat_minor": 0
}